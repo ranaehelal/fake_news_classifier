{
 "cells": [
  {
   "metadata": {
    "collapsed": true,
    "ExecuteTime": {
     "end_time": "2025-07-09T17:09:00.688792Z",
     "start_time": "2025-07-09T17:08:58.406556Z"
    }
   },
   "cell_type": "code",
   "source": [
    "import sys\n",
    "\n",
    "from src.data_loader import load_kaggle_data\n",
    "import os\n",
    "os.chdir(\"/home/rana-helal/PycharmProjects/fake_news_classifier\")\n",
    "\n",
    "df_kaggle = load_kaggle_data()\n"
   ],
   "id": "1deaccd934589d3b",
   "outputs": [],
   "execution_count": 1
  },
  {
   "metadata": {
    "ExecuteTime": {
     "end_time": "2025-07-09T17:00:40.212550Z",
     "start_time": "2025-07-09T17:00:33.742758Z"
    }
   },
   "cell_type": "code",
   "outputs": [
    {
     "name": "stdout",
     "output_type": "stream",
     "text": [
      "Collecting en-core-web-sm==3.8.0\r\n",
      "  Using cached https://github.com/explosion/spacy-models/releases/download/en_core_web_sm-3.8.0/en_core_web_sm-3.8.0-py3-none-any.whl (12.8 MB)\r\n",
      "Installing collected packages: en-core-web-sm\r\n",
      "Successfully installed en-core-web-sm-3.8.0\r\n",
      "\u001B[38;5;2m✔ Download and installation successful\u001B[0m\r\n",
      "You can now load the package via spacy.load('en_core_web_sm')\r\n"
     ]
    }
   ],
   "execution_count": 11,
   "source": "!python -m spacy download en_core_web_sm\n",
   "id": "5405d7e511f3209a"
  },
  {
   "metadata": {
    "ExecuteTime": {
     "end_time": "2025-07-09T17:09:06.615179Z",
     "start_time": "2025-07-09T17:09:06.593456Z"
    }
   },
   "cell_type": "code",
   "source": [
    "from tqdm import tqdm\n",
    "tqdm.pandas()\n"
   ],
   "id": "3391fca12827932c",
   "outputs": [],
   "execution_count": 2
  },
  {
   "metadata": {
    "ExecuteTime": {
     "end_time": "2025-07-09T17:09:15.667906Z",
     "start_time": "2025-07-09T17:09:13.064052Z"
    }
   },
   "cell_type": "code",
   "source": [
    "from src.preprocessing import remove_duplicates_and_missing, clean_for_ml\n",
    "\n",
    "# Apply text cleaning for ML models\n",
    "\n",
    "df_cleaned = remove_duplicates_and_missing(df_kaggle)\n"
   ],
   "id": "c8de9f5b1fd61f03",
   "outputs": [],
   "execution_count": 3
  },
  {
   "metadata": {
    "ExecuteTime": {
     "end_time": "2025-07-09T17:10:14.945949Z",
     "start_time": "2025-07-09T17:09:53.891137Z"
    }
   },
   "cell_type": "code",
   "source": [
    "from src.preprocessing import clean_for_dl\n",
    "\n",
    "df_cleaned['clean_text'] = df_kaggle['text'].progress_apply(clean_for_dl)\n"
   ],
   "id": "933559bb7ecd62fa",
   "outputs": [
    {
     "name": "stderr",
     "output_type": "stream",
     "text": [
      "100%|██████████| 44898/44898 [00:21<00:00, 2134.43it/s]\n"
     ]
    }
   ],
   "execution_count": 4
  },
  {
   "metadata": {
    "ExecuteTime": {
     "end_time": "2025-07-09T17:10:50.220815Z",
     "start_time": "2025-07-09T17:10:42.693651Z"
    }
   },
   "cell_type": "code",
   "source": [
    "from src.utils import save_cleaned_data\n",
    "\n",
    "save_cleaned_data(df_cleaned, \"kaggle_clean_dl.csv\")"
   ],
   "id": "f69f282817f96434",
   "outputs": [
    {
     "name": "stdout",
     "output_type": "stream",
     "text": [
      " Saved cleaned data to data/processed/kaggle_clean_dl.csv\n"
     ]
    }
   ],
   "execution_count": 6
  }
 ],
 "metadata": {
  "kernelspec": {
   "display_name": "Python 3",
   "language": "python",
   "name": "python3"
  },
  "language_info": {
   "codemirror_mode": {
    "name": "ipython",
    "version": 2
   },
   "file_extension": ".py",
   "mimetype": "text/x-python",
   "name": "python",
   "nbconvert_exporter": "python",
   "pygments_lexer": "ipython2",
   "version": "2.7.6"
  }
 },
 "nbformat": 4,
 "nbformat_minor": 5
}
