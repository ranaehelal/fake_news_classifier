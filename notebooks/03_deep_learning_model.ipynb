{
 "cells": [
  {
   "cell_type": "markdown",
   "id": "d704d87f1fa6f963",
   "metadata": {},
   "source": [
    "# load the data"
   ]
  },
  {
   "cell_type": "code",
   "execution_count": 26,
   "id": "1deaccd934589d3b",
   "metadata": {
    "ExecuteTime": {
     "end_time": "2025-07-09T17:09:00.688792Z",
     "start_time": "2025-07-09T17:08:58.406556Z"
    }
   },
   "outputs": [],
   "source": [
    "import sys\n",
    "import os\n",
    "os.chdir(\"/home/rana-helal/PycharmProjects/fake_news_classifier\")\n",
    "\n",
    "from src.data_loader import load_kaggle_data\n",
    "\n",
    "\n",
    "df_kaggle = load_kaggle_data()\n"
   ]
  },
  {
   "cell_type": "markdown",
   "id": "b54661e7a8142b36",
   "metadata": {
    "jp-MarkdownHeadingCollapsed": true
   },
   "source": [
    "# preprocessing"
   ]
  },
  {
   "cell_type": "code",
   "execution_count": 11,
   "id": "5405d7e511f3209a",
   "metadata": {
    "ExecuteTime": {
     "end_time": "2025-07-09T17:00:40.212550Z",
     "start_time": "2025-07-09T17:00:33.742758Z"
    }
   },
   "outputs": [
    {
     "name": "stdout",
     "output_type": "stream",
     "text": [
      "Collecting en-core-web-sm==3.8.0\r\n",
      "  Using cached https://github.com/explosion/spacy-models/releases/download/en_core_web_sm-3.8.0/en_core_web_sm-3.8.0-py3-none-any.whl (12.8 MB)\r\n",
      "Installing collected packages: en-core-web-sm\r\n",
      "Successfully installed en-core-web-sm-3.8.0\r\n",
      "\u001b[38;5;2m✔ Download and installation successful\u001b[0m\r\n",
      "You can now load the package via spacy.load('en_core_web_sm')\r\n"
     ]
    }
   ],
   "source": [
    "#!python -m spacy download en_core_web_sm\n"
   ]
  },
  {
   "cell_type": "code",
   "execution_count": 2,
   "id": "3391fca12827932c",
   "metadata": {
    "ExecuteTime": {
     "end_time": "2025-07-09T17:09:06.615179Z",
     "start_time": "2025-07-09T17:09:06.593456Z"
    }
   },
   "outputs": [],
   "source": [
    "from tqdm import tqdm\n",
    "tqdm.pandas()\n"
   ]
  },
  {
   "cell_type": "code",
   "execution_count": 3,
   "id": "c8de9f5b1fd61f03",
   "metadata": {
    "ExecuteTime": {
     "end_time": "2025-07-09T17:09:15.667906Z",
     "start_time": "2025-07-09T17:09:13.064052Z"
    }
   },
   "outputs": [],
   "source": [
    "from src.preprocessing import remove_duplicates_and_missing, clean_for_ml\n",
    "\n",
    "# Apply text cleaning for ML models\n",
    "\n",
    "df_cleaned = remove_duplicates_and_missing(df_kaggle)\n"
   ]
  },
  {
   "cell_type": "code",
   "execution_count": 4,
   "id": "933559bb7ecd62fa",
   "metadata": {
    "ExecuteTime": {
     "end_time": "2025-07-09T17:10:14.945949Z",
     "start_time": "2025-07-09T17:09:53.891137Z"
    }
   },
   "outputs": [
    {
     "name": "stderr",
     "output_type": "stream",
     "text": [
      "100%|██████████| 44898/44898 [00:21<00:00, 2134.43it/s]\n"
     ]
    }
   ],
   "source": [
    "from src.preprocessing import clean_for_dl\n",
    "\n",
    "df_cleaned['clean_text'] = df_cleaned['text'].progress_apply(clean_for_dl)\n"
   ]
  },
  {
   "cell_type": "code",
   "execution_count": 6,
   "id": "f69f282817f96434",
   "metadata": {
    "ExecuteTime": {
     "end_time": "2025-07-09T17:10:50.220815Z",
     "start_time": "2025-07-09T17:10:42.693651Z"
    }
   },
   "outputs": [
    {
     "name": "stdout",
     "output_type": "stream",
     "text": [
      " Saved cleaned data to data/processed/kaggle_clean_dl.csv\n"
     ]
    }
   ],
   "source": [
    "from src.utils import save_cleaned_data\n",
    "\n",
    "save_cleaned_data(df_cleaned, \"kaggle_clean_dl.csv\")"
   ]
  },
  {
   "cell_type": "markdown",
   "id": "e7ad88038bfac997",
   "metadata": {},
   "source": [
    "# label encoding"
   ]
  },
  {
   "cell_type": "code",
   "execution_count": 27,
   "id": "c6d20da61a579895",
   "metadata": {
    "ExecuteTime": {
     "end_time": "2025-07-09T17:31:23.537301Z",
     "start_time": "2025-07-09T17:31:21.633862Z"
    }
   },
   "outputs": [
    {
     "data": {
      "text/html": [
       "<div>\n",
       "<style scoped>\n",
       "    .dataframe tbody tr th:only-of-type {\n",
       "        vertical-align: middle;\n",
       "    }\n",
       "\n",
       "    .dataframe tbody tr th {\n",
       "        vertical-align: top;\n",
       "    }\n",
       "\n",
       "    .dataframe thead th {\n",
       "        text-align: right;\n",
       "    }\n",
       "</style>\n",
       "<table border=\"1\" class=\"dataframe\">\n",
       "  <thead>\n",
       "    <tr style=\"text-align: right;\">\n",
       "      <th></th>\n",
       "      <th>title</th>\n",
       "      <th>text</th>\n",
       "      <th>subject</th>\n",
       "      <th>label</th>\n",
       "      <th>clean_text</th>\n",
       "    </tr>\n",
       "  </thead>\n",
       "  <tbody>\n",
       "    <tr>\n",
       "      <th>0</th>\n",
       "      <td>UNHOLY ALLIANCE: Hillary Clinton’s Saudi Spons...</td>\n",
       "      <td>21st Century Wire says Amid the tossing and t...</td>\n",
       "      <td>Middle-east</td>\n",
       "      <td>fake</td>\n",
       "      <td>NUM st century wire says amid the tossing and ...</td>\n",
       "    </tr>\n",
       "    <tr>\n",
       "      <th>1</th>\n",
       "      <td>BREAKING: SYRIAN REFUGEE KILLS German Woman, I...</td>\n",
       "      <td>This news comes as Obama works to bring even m...</td>\n",
       "      <td>left-news</td>\n",
       "      <td>fake</td>\n",
       "      <td>this news comes as obama works to bring even m...</td>\n",
       "    </tr>\n",
       "    <tr>\n",
       "      <th>2</th>\n",
       "      <td>French magazine found guilty over topless phot...</td>\n",
       "      <td>PARIS (Reuters) - A French court ruled on Tues...</td>\n",
       "      <td>worldnews</td>\n",
       "      <td>real</td>\n",
       "      <td>paris reuters a french court ruled on tuesday ...</td>\n",
       "    </tr>\n",
       "    <tr>\n",
       "      <th>3</th>\n",
       "      <td>“WOODY” KAINE One Of Six ARRESTED After Peacef...</td>\n",
       "      <td>Watch the local news report as they explain wh...</td>\n",
       "      <td>politics</td>\n",
       "      <td>fake</td>\n",
       "      <td>watch the local news report as they explain wh...</td>\n",
       "    </tr>\n",
       "    <tr>\n",
       "      <th>4</th>\n",
       "      <td>At least three dead as Lidia slams Mexico's Lo...</td>\n",
       "      <td>MEXICO CITY (Reuters) - At least three people ...</td>\n",
       "      <td>worldnews</td>\n",
       "      <td>real</td>\n",
       "      <td>mexico city reuters at least three people died...</td>\n",
       "    </tr>\n",
       "  </tbody>\n",
       "</table>\n",
       "</div>"
      ],
      "text/plain": [
       "                                               title  \\\n",
       "0  UNHOLY ALLIANCE: Hillary Clinton’s Saudi Spons...   \n",
       "1  BREAKING: SYRIAN REFUGEE KILLS German Woman, I...   \n",
       "2  French magazine found guilty over topless phot...   \n",
       "3  “WOODY” KAINE One Of Six ARRESTED After Peacef...   \n",
       "4  At least three dead as Lidia slams Mexico's Lo...   \n",
       "\n",
       "                                                text      subject label  \\\n",
       "0   21st Century Wire says Amid the tossing and t...  Middle-east  fake   \n",
       "1  This news comes as Obama works to bring even m...    left-news  fake   \n",
       "2  PARIS (Reuters) - A French court ruled on Tues...    worldnews  real   \n",
       "3  Watch the local news report as they explain wh...     politics  fake   \n",
       "4  MEXICO CITY (Reuters) - At least three people ...    worldnews  real   \n",
       "\n",
       "                                          clean_text  \n",
       "0  NUM st century wire says amid the tossing and ...  \n",
       "1  this news comes as obama works to bring even m...  \n",
       "2  paris reuters a french court ruled on tuesday ...  \n",
       "3  watch the local news report as they explain wh...  \n",
       "4  mexico city reuters at least three people died...  "
      ]
     },
     "execution_count": 27,
     "metadata": {},
     "output_type": "execute_result"
    }
   ],
   "source": [
    "import pandas as pd\n",
    "\n",
    "df = pd.read_csv(\"data/processed/kaggle_clean_dl.csv\")\n",
    "df.head()\n"
   ]
  },
  {
   "cell_type": "code",
   "execution_count": 28,
   "id": "463d0d05d73a5f7b",
   "metadata": {
    "ExecuteTime": {
     "end_time": "2025-07-09T17:31:26.640539Z",
     "start_time": "2025-07-09T17:31:26.635396Z"
    }
   },
   "outputs": [],
   "source": [
    "df['label'] = df['label'].map({'fake': 0, 'real': 1})"
   ]
  },
  {
   "cell_type": "code",
   "execution_count": 29,
   "id": "b99b16eb5b0b3244",
   "metadata": {
    "ExecuteTime": {
     "end_time": "2025-07-09T17:31:27.924345Z",
     "start_time": "2025-07-09T17:31:27.917353Z"
    }
   },
   "outputs": [
    {
     "data": {
      "text/html": [
       "<div>\n",
       "<style scoped>\n",
       "    .dataframe tbody tr th:only-of-type {\n",
       "        vertical-align: middle;\n",
       "    }\n",
       "\n",
       "    .dataframe tbody tr th {\n",
       "        vertical-align: top;\n",
       "    }\n",
       "\n",
       "    .dataframe thead th {\n",
       "        text-align: right;\n",
       "    }\n",
       "</style>\n",
       "<table border=\"1\" class=\"dataframe\">\n",
       "  <thead>\n",
       "    <tr style=\"text-align: right;\">\n",
       "      <th></th>\n",
       "      <th>title</th>\n",
       "      <th>text</th>\n",
       "      <th>subject</th>\n",
       "      <th>label</th>\n",
       "      <th>clean_text</th>\n",
       "    </tr>\n",
       "  </thead>\n",
       "  <tbody>\n",
       "    <tr>\n",
       "      <th>0</th>\n",
       "      <td>UNHOLY ALLIANCE: Hillary Clinton’s Saudi Spons...</td>\n",
       "      <td>21st Century Wire says Amid the tossing and t...</td>\n",
       "      <td>Middle-east</td>\n",
       "      <td>0</td>\n",
       "      <td>NUM st century wire says amid the tossing and ...</td>\n",
       "    </tr>\n",
       "    <tr>\n",
       "      <th>1</th>\n",
       "      <td>BREAKING: SYRIAN REFUGEE KILLS German Woman, I...</td>\n",
       "      <td>This news comes as Obama works to bring even m...</td>\n",
       "      <td>left-news</td>\n",
       "      <td>0</td>\n",
       "      <td>this news comes as obama works to bring even m...</td>\n",
       "    </tr>\n",
       "    <tr>\n",
       "      <th>2</th>\n",
       "      <td>French magazine found guilty over topless phot...</td>\n",
       "      <td>PARIS (Reuters) - A French court ruled on Tues...</td>\n",
       "      <td>worldnews</td>\n",
       "      <td>1</td>\n",
       "      <td>paris reuters a french court ruled on tuesday ...</td>\n",
       "    </tr>\n",
       "    <tr>\n",
       "      <th>3</th>\n",
       "      <td>“WOODY” KAINE One Of Six ARRESTED After Peacef...</td>\n",
       "      <td>Watch the local news report as they explain wh...</td>\n",
       "      <td>politics</td>\n",
       "      <td>0</td>\n",
       "      <td>watch the local news report as they explain wh...</td>\n",
       "    </tr>\n",
       "    <tr>\n",
       "      <th>4</th>\n",
       "      <td>At least three dead as Lidia slams Mexico's Lo...</td>\n",
       "      <td>MEXICO CITY (Reuters) - At least three people ...</td>\n",
       "      <td>worldnews</td>\n",
       "      <td>1</td>\n",
       "      <td>mexico city reuters at least three people died...</td>\n",
       "    </tr>\n",
       "  </tbody>\n",
       "</table>\n",
       "</div>"
      ],
      "text/plain": [
       "                                               title  \\\n",
       "0  UNHOLY ALLIANCE: Hillary Clinton’s Saudi Spons...   \n",
       "1  BREAKING: SYRIAN REFUGEE KILLS German Woman, I...   \n",
       "2  French magazine found guilty over topless phot...   \n",
       "3  “WOODY” KAINE One Of Six ARRESTED After Peacef...   \n",
       "4  At least three dead as Lidia slams Mexico's Lo...   \n",
       "\n",
       "                                                text      subject  label  \\\n",
       "0   21st Century Wire says Amid the tossing and t...  Middle-east      0   \n",
       "1  This news comes as Obama works to bring even m...    left-news      0   \n",
       "2  PARIS (Reuters) - A French court ruled on Tues...    worldnews      1   \n",
       "3  Watch the local news report as they explain wh...     politics      0   \n",
       "4  MEXICO CITY (Reuters) - At least three people ...    worldnews      1   \n",
       "\n",
       "                                          clean_text  \n",
       "0  NUM st century wire says amid the tossing and ...  \n",
       "1  this news comes as obama works to bring even m...  \n",
       "2  paris reuters a french court ruled on tuesday ...  \n",
       "3  watch the local news report as they explain wh...  \n",
       "4  mexico city reuters at least three people died...  "
      ]
     },
     "execution_count": 29,
     "metadata": {},
     "output_type": "execute_result"
    }
   ],
   "source": [
    "df.head()"
   ]
  },
  {
   "cell_type": "code",
   "execution_count": 30,
   "id": "d6dc9d7613612a9c",
   "metadata": {
    "ExecuteTime": {
     "end_time": "2025-07-09T18:41:44.710530Z",
     "start_time": "2025-07-09T18:41:44.668461Z"
    }
   },
   "outputs": [
    {
     "data": {
      "text/plain": [
       "label\n",
       "0    22847\n",
       "1    21207\n",
       "Name: count, dtype: int64"
      ]
     },
     "execution_count": 30,
     "metadata": {},
     "output_type": "execute_result"
    }
   ],
   "source": [
    "df['label'].value_counts()\n"
   ]
  },
  {
   "cell_type": "markdown",
   "id": "e581c5512de3a8fa",
   "metadata": {
    "jp-MarkdownHeadingCollapsed": true
   },
   "source": [
    "# Prepare tokenizer and sequences"
   ]
  },
  {
   "cell_type": "code",
   "execution_count": 26,
   "id": "2d25435b75bd1abb",
   "metadata": {
    "ExecuteTime": {
     "end_time": "2025-07-09T18:41:50.704048Z",
     "start_time": "2025-07-09T18:41:50.690334Z"
    }
   },
   "outputs": [],
   "source": [
    "texts = df[\"clean_text\"].astype(str).tolist()\n"
   ]
  },
  {
   "cell_type": "code",
   "execution_count": 23,
   "id": "e06036707a5c9231",
   "metadata": {
    "ExecuteTime": {
     "end_time": "2025-07-09T18:12:39.500763Z",
     "start_time": "2025-07-09T18:12:39.281211Z"
    }
   },
   "outputs": [
    {
     "name": "stdout",
     "output_type": "stream",
     "text": [
      "[INFO] Tokenizer and sequences prepared. Vocab size: 227803\n"
     ]
    }
   ],
   "source": [
    "from src.features import prepare_tokenizer_and_sequences\n",
    "\n",
    "tokenizer, padded_sequences = prepare_tokenizer_and_sequences(texts, max_vocab=10000, max_len=300)\n"
   ]
  },
  {
   "cell_type": "code",
   "execution_count": 25,
   "id": "8bf2d51f-fa91-42a3-823c-d31f2727cf61",
   "metadata": {},
   "outputs": [
    {
     "name": "stdout",
     "output_type": "stream",
     "text": [
      "tokenizer saved to models/dl_tokenizer.pkl\n"
     ]
    }
   ],
   "source": [
    "from src.utils import save_pickle\n",
    "\n",
    "# Save the tokenizer\n",
    "save_pickle(tokenizer, \"models/dl_tokenizer.pkl\")\n",
    "\n"
   ]
  },
  {
   "cell_type": "markdown",
   "id": "1d8e1351922b5893",
   "metadata": {},
   "source": [
    "# split the data"
   ]
  },
  {
   "cell_type": "code",
   "execution_count": 37,
   "id": "9547a932eae053e1",
   "metadata": {},
   "outputs": [],
   "source": [
    "from src.utils import split_data\n",
    "\n",
    "\n",
    "X = df['clean_text']\n",
    "y = df['label']\n",
    "\n",
    "X_train, X_val, X_test, y_train, y_val, y_test = split_data(X, y)"
   ]
  }
 ],
 "metadata": {
  "kernelspec": {
   "display_name": "Python 3 (ipykernel)",
   "language": "python",
   "name": "python3"
  },
  "language_info": {
   "codemirror_mode": {
    "name": "ipython",
    "version": 3
   },
   "file_extension": ".py",
   "mimetype": "text/x-python",
   "name": "python",
   "nbconvert_exporter": "python",
   "pygments_lexer": "ipython3",
   "version": "3.10.18"
  }
 },
 "nbformat": 4,
 "nbformat_minor": 5
}
