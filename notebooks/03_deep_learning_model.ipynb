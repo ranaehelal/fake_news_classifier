{
 "cells": [
  {
   "cell_type": "markdown",
   "id": "d704d87f1fa6f963",
   "metadata": {},
   "source": [
    "# load the data"
   ]
  },
  {
   "cell_type": "code",
   "execution_count": 1,
   "id": "1deaccd934589d3b",
   "metadata": {
    "ExecuteTime": {
     "end_time": "2025-07-09T17:09:00.688792Z",
     "start_time": "2025-07-09T17:08:58.406556Z"
    }
   },
   "outputs": [],
   "source": [
    "import sys\n",
    "import os\n",
    "os.chdir(\"/home/rana-helal/PycharmProjects/fake_news_classifier\")\n",
    "\n",
    "from src.data_loader import load_kaggle_data\n",
    "\n",
    "\n",
    "df_kaggle = load_kaggle_data()\n"
   ]
  },
  {
   "cell_type": "markdown",
   "id": "b54661e7a8142b36",
   "metadata": {
    "jp-MarkdownHeadingCollapsed": true
   },
   "source": [
    "# preprocessing"
   ]
  },
  {
   "cell_type": "code",
   "execution_count": 11,
   "id": "5405d7e511f3209a",
   "metadata": {
    "ExecuteTime": {
     "end_time": "2025-07-09T17:00:40.212550Z",
     "start_time": "2025-07-09T17:00:33.742758Z"
    }
   },
   "outputs": [
    {
     "name": "stdout",
     "output_type": "stream",
     "text": [
      "Collecting en-core-web-sm==3.8.0\r\n",
      "  Using cached https://github.com/explosion/spacy-models/releases/download/en_core_web_sm-3.8.0/en_core_web_sm-3.8.0-py3-none-any.whl (12.8 MB)\r\n",
      "Installing collected packages: en-core-web-sm\r\n",
      "Successfully installed en-core-web-sm-3.8.0\r\n",
      "\u001B[38;5;2m✔ Download and installation successful\u001B[0m\r\n",
      "You can now load the package via spacy.load('en_core_web_sm')\r\n"
     ]
    }
   ],
   "source": [
    "#!python -m spacy download en_core_web_sm\n"
   ]
  },
  {
   "cell_type": "code",
   "execution_count": 2,
   "id": "3391fca12827932c",
   "metadata": {
    "ExecuteTime": {
     "end_time": "2025-07-09T17:09:06.615179Z",
     "start_time": "2025-07-09T17:09:06.593456Z"
    }
   },
   "outputs": [],
   "source": [
    "from tqdm import tqdm\n",
    "tqdm.pandas()\n"
   ]
  },
  {
   "cell_type": "code",
   "execution_count": 3,
   "id": "c8de9f5b1fd61f03",
   "metadata": {
    "ExecuteTime": {
     "end_time": "2025-07-09T17:09:15.667906Z",
     "start_time": "2025-07-09T17:09:13.064052Z"
    }
   },
   "outputs": [],
   "source": [
    "from src.preprocessing import remove_duplicates_and_missing, clean_for_ml\n",
    "\n",
    "# Apply text cleaning for ML models\n",
    "\n",
    "df_cleaned = remove_duplicates_and_missing(df_kaggle)\n"
   ]
  },
  {
   "cell_type": "code",
   "execution_count": 4,
   "id": "933559bb7ecd62fa",
   "metadata": {
    "ExecuteTime": {
     "end_time": "2025-07-09T17:10:14.945949Z",
     "start_time": "2025-07-09T17:09:53.891137Z"
    }
   },
   "outputs": [
    {
     "name": "stderr",
     "output_type": "stream",
     "text": [
      "100%|██████████| 44898/44898 [00:21<00:00, 2134.43it/s]\n"
     ]
    }
   ],
   "source": [
    "from src.preprocessing import clean_for_dl\n",
    "\n",
    "df_cleaned['clean_text'] = df_cleaned['text'].progress_apply(clean_for_dl)\n"
   ]
  },
  {
   "cell_type": "code",
   "execution_count": 6,
   "id": "f69f282817f96434",
   "metadata": {
    "ExecuteTime": {
     "end_time": "2025-07-09T17:10:50.220815Z",
     "start_time": "2025-07-09T17:10:42.693651Z"
    }
   },
   "outputs": [
    {
     "name": "stdout",
     "output_type": "stream",
     "text": [
      " Saved cleaned data to data/processed/kaggle_clean_dl.csv\n"
     ]
    }
   ],
   "source": [
    "from src.utils import save_cleaned_data\n",
    "\n",
    "save_cleaned_data(df_cleaned, \"kaggle_clean_dl.csv\")"
   ]
  },
  {
   "cell_type": "markdown",
   "id": "e7ad88038bfac997",
   "metadata": {},
   "source": [
    "# label encoding"
   ]
  },
  {
   "cell_type": "code",
   "execution_count": 2,
   "id": "c6d20da61a579895",
   "metadata": {
    "ExecuteTime": {
     "end_time": "2025-07-09T17:31:23.537301Z",
     "start_time": "2025-07-09T17:31:21.633862Z"
    }
   },
   "outputs": [
    {
     "data": {
      "text/html": [
       "<div>\n",
       "<style scoped>\n",
       "    .dataframe tbody tr th:only-of-type {\n",
       "        vertical-align: middle;\n",
       "    }\n",
       "\n",
       "    .dataframe tbody tr th {\n",
       "        vertical-align: top;\n",
       "    }\n",
       "\n",
       "    .dataframe thead th {\n",
       "        text-align: right;\n",
       "    }\n",
       "</style>\n",
       "<table border=\"1\" class=\"dataframe\">\n",
       "  <thead>\n",
       "    <tr style=\"text-align: right;\">\n",
       "      <th></th>\n",
       "      <th>title</th>\n",
       "      <th>text</th>\n",
       "      <th>subject</th>\n",
       "      <th>label</th>\n",
       "      <th>clean_text</th>\n",
       "    </tr>\n",
       "  </thead>\n",
       "  <tbody>\n",
       "    <tr>\n",
       "      <th>0</th>\n",
       "      <td>UNHOLY ALLIANCE: Hillary Clinton’s Saudi Spons...</td>\n",
       "      <td>21st Century Wire says Amid the tossing and t...</td>\n",
       "      <td>Middle-east</td>\n",
       "      <td>fake</td>\n",
       "      <td>NUM st century wire says amid the tossing and ...</td>\n",
       "    </tr>\n",
       "    <tr>\n",
       "      <th>1</th>\n",
       "      <td>BREAKING: SYRIAN REFUGEE KILLS German Woman, I...</td>\n",
       "      <td>This news comes as Obama works to bring even m...</td>\n",
       "      <td>left-news</td>\n",
       "      <td>fake</td>\n",
       "      <td>this news comes as obama works to bring even m...</td>\n",
       "    </tr>\n",
       "    <tr>\n",
       "      <th>2</th>\n",
       "      <td>French magazine found guilty over topless phot...</td>\n",
       "      <td>PARIS (Reuters) - A French court ruled on Tues...</td>\n",
       "      <td>worldnews</td>\n",
       "      <td>real</td>\n",
       "      <td>paris reuters a french court ruled on tuesday ...</td>\n",
       "    </tr>\n",
       "    <tr>\n",
       "      <th>3</th>\n",
       "      <td>“WOODY” KAINE One Of Six ARRESTED After Peacef...</td>\n",
       "      <td>Watch the local news report as they explain wh...</td>\n",
       "      <td>politics</td>\n",
       "      <td>fake</td>\n",
       "      <td>watch the local news report as they explain wh...</td>\n",
       "    </tr>\n",
       "    <tr>\n",
       "      <th>4</th>\n",
       "      <td>At least three dead as Lidia slams Mexico's Lo...</td>\n",
       "      <td>MEXICO CITY (Reuters) - At least three people ...</td>\n",
       "      <td>worldnews</td>\n",
       "      <td>real</td>\n",
       "      <td>mexico city reuters at least three people died...</td>\n",
       "    </tr>\n",
       "  </tbody>\n",
       "</table>\n",
       "</div>"
      ],
      "text/plain": [
       "                                               title  \\\n",
       "0  UNHOLY ALLIANCE: Hillary Clinton’s Saudi Spons...   \n",
       "1  BREAKING: SYRIAN REFUGEE KILLS German Woman, I...   \n",
       "2  French magazine found guilty over topless phot...   \n",
       "3  “WOODY” KAINE One Of Six ARRESTED After Peacef...   \n",
       "4  At least three dead as Lidia slams Mexico's Lo...   \n",
       "\n",
       "                                                text      subject label  \\\n",
       "0   21st Century Wire says Amid the tossing and t...  Middle-east  fake   \n",
       "1  This news comes as Obama works to bring even m...    left-news  fake   \n",
       "2  PARIS (Reuters) - A French court ruled on Tues...    worldnews  real   \n",
       "3  Watch the local news report as they explain wh...     politics  fake   \n",
       "4  MEXICO CITY (Reuters) - At least three people ...    worldnews  real   \n",
       "\n",
       "                                          clean_text  \n",
       "0  NUM st century wire says amid the tossing and ...  \n",
       "1  this news comes as obama works to bring even m...  \n",
       "2  paris reuters a french court ruled on tuesday ...  \n",
       "3  watch the local news report as they explain wh...  \n",
       "4  mexico city reuters at least three people died...  "
      ]
     },
     "execution_count": 2,
     "metadata": {},
     "output_type": "execute_result"
    }
   ],
   "source": [
    "import pandas as pd\n",
    "\n",
    "df = pd.read_csv(\"data/processed/kaggle_clean_dl.csv\")\n",
    "df.head()\n"
   ]
  },
  {
   "cell_type": "code",
   "execution_count": 3,
   "id": "463d0d05d73a5f7b",
   "metadata": {
    "ExecuteTime": {
     "end_time": "2025-07-09T17:31:26.640539Z",
     "start_time": "2025-07-09T17:31:26.635396Z"
    }
   },
   "outputs": [],
   "source": [
    "df['label'] = df['label'].map({'fake': 0, 'real': 1})"
   ]
  },
  {
   "cell_type": "code",
   "execution_count": 4,
   "id": "b99b16eb5b0b3244",
   "metadata": {
    "ExecuteTime": {
     "end_time": "2025-07-09T17:31:27.924345Z",
     "start_time": "2025-07-09T17:31:27.917353Z"
    }
   },
   "outputs": [
    {
     "data": {
      "text/html": [
       "<div>\n",
       "<style scoped>\n",
       "    .dataframe tbody tr th:only-of-type {\n",
       "        vertical-align: middle;\n",
       "    }\n",
       "\n",
       "    .dataframe tbody tr th {\n",
       "        vertical-align: top;\n",
       "    }\n",
       "\n",
       "    .dataframe thead th {\n",
       "        text-align: right;\n",
       "    }\n",
       "</style>\n",
       "<table border=\"1\" class=\"dataframe\">\n",
       "  <thead>\n",
       "    <tr style=\"text-align: right;\">\n",
       "      <th></th>\n",
       "      <th>title</th>\n",
       "      <th>text</th>\n",
       "      <th>subject</th>\n",
       "      <th>label</th>\n",
       "      <th>clean_text</th>\n",
       "    </tr>\n",
       "  </thead>\n",
       "  <tbody>\n",
       "    <tr>\n",
       "      <th>0</th>\n",
       "      <td>UNHOLY ALLIANCE: Hillary Clinton’s Saudi Spons...</td>\n",
       "      <td>21st Century Wire says Amid the tossing and t...</td>\n",
       "      <td>Middle-east</td>\n",
       "      <td>0</td>\n",
       "      <td>NUM st century wire says amid the tossing and ...</td>\n",
       "    </tr>\n",
       "    <tr>\n",
       "      <th>1</th>\n",
       "      <td>BREAKING: SYRIAN REFUGEE KILLS German Woman, I...</td>\n",
       "      <td>This news comes as Obama works to bring even m...</td>\n",
       "      <td>left-news</td>\n",
       "      <td>0</td>\n",
       "      <td>this news comes as obama works to bring even m...</td>\n",
       "    </tr>\n",
       "    <tr>\n",
       "      <th>2</th>\n",
       "      <td>French magazine found guilty over topless phot...</td>\n",
       "      <td>PARIS (Reuters) - A French court ruled on Tues...</td>\n",
       "      <td>worldnews</td>\n",
       "      <td>1</td>\n",
       "      <td>paris reuters a french court ruled on tuesday ...</td>\n",
       "    </tr>\n",
       "    <tr>\n",
       "      <th>3</th>\n",
       "      <td>“WOODY” KAINE One Of Six ARRESTED After Peacef...</td>\n",
       "      <td>Watch the local news report as they explain wh...</td>\n",
       "      <td>politics</td>\n",
       "      <td>0</td>\n",
       "      <td>watch the local news report as they explain wh...</td>\n",
       "    </tr>\n",
       "    <tr>\n",
       "      <th>4</th>\n",
       "      <td>At least three dead as Lidia slams Mexico's Lo...</td>\n",
       "      <td>MEXICO CITY (Reuters) - At least three people ...</td>\n",
       "      <td>worldnews</td>\n",
       "      <td>1</td>\n",
       "      <td>mexico city reuters at least three people died...</td>\n",
       "    </tr>\n",
       "  </tbody>\n",
       "</table>\n",
       "</div>"
      ],
      "text/plain": [
       "                                               title  \\\n",
       "0  UNHOLY ALLIANCE: Hillary Clinton’s Saudi Spons...   \n",
       "1  BREAKING: SYRIAN REFUGEE KILLS German Woman, I...   \n",
       "2  French magazine found guilty over topless phot...   \n",
       "3  “WOODY” KAINE One Of Six ARRESTED After Peacef...   \n",
       "4  At least three dead as Lidia slams Mexico's Lo...   \n",
       "\n",
       "                                                text      subject  label  \\\n",
       "0   21st Century Wire says Amid the tossing and t...  Middle-east      0   \n",
       "1  This news comes as Obama works to bring even m...    left-news      0   \n",
       "2  PARIS (Reuters) - A French court ruled on Tues...    worldnews      1   \n",
       "3  Watch the local news report as they explain wh...     politics      0   \n",
       "4  MEXICO CITY (Reuters) - At least three people ...    worldnews      1   \n",
       "\n",
       "                                          clean_text  \n",
       "0  NUM st century wire says amid the tossing and ...  \n",
       "1  this news comes as obama works to bring even m...  \n",
       "2  paris reuters a french court ruled on tuesday ...  \n",
       "3  watch the local news report as they explain wh...  \n",
       "4  mexico city reuters at least three people died...  "
      ]
     },
     "execution_count": 4,
     "metadata": {},
     "output_type": "execute_result"
    }
   ],
   "source": [
    "df.head()"
   ]
  },
  {
   "cell_type": "code",
   "execution_count": 5,
   "id": "d6dc9d7613612a9c",
   "metadata": {
    "ExecuteTime": {
     "end_time": "2025-07-09T18:41:44.710530Z",
     "start_time": "2025-07-09T18:41:44.668461Z"
    }
   },
   "outputs": [
    {
     "data": {
      "text/plain": [
       "label\n",
       "0    22847\n",
       "1    21207\n",
       "Name: count, dtype: int64"
      ]
     },
     "execution_count": 5,
     "metadata": {},
     "output_type": "execute_result"
    }
   ],
   "source": [
    "df['label'].value_counts()\n"
   ]
  },
  {
   "cell_type": "markdown",
   "id": "e581c5512de3a8fa",
   "metadata": {},
   "source": [
    "# Prepare tokenizer and sequences"
   ]
  },
  {
   "cell_type": "code",
   "execution_count": 6,
   "id": "2d25435b75bd1abb",
   "metadata": {
    "ExecuteTime": {
     "end_time": "2025-07-09T18:41:50.704048Z",
     "start_time": "2025-07-09T18:41:50.690334Z"
    }
   },
   "outputs": [],
   "source": [
    "texts = df[\"clean_text\"].astype(str).tolist()\n"
   ]
  },
  {
   "cell_type": "code",
   "execution_count": 7,
   "id": "e06036707a5c9231",
   "metadata": {
    "ExecuteTime": {
     "end_time": "2025-07-09T18:12:39.500763Z",
     "start_time": "2025-07-09T18:12:39.281211Z"
    }
   },
   "outputs": [
    {
     "name": "stderr",
     "output_type": "stream",
     "text": [
      "2025-07-10 20:38:40.101730: I external/local_xla/xla/tsl/cuda/cudart_stub.cc:32] Could not find cuda drivers on your machine, GPU will not be used.\n",
      "2025-07-10 20:38:40.175152: I external/local_xla/xla/tsl/cuda/cudart_stub.cc:32] Could not find cuda drivers on your machine, GPU will not be used.\n",
      "2025-07-10 20:38:40.234213: E external/local_xla/xla/stream_executor/cuda/cuda_fft.cc:467] Unable to register cuFFT factory: Attempting to register factory for plugin cuFFT when one has already been registered\n",
      "WARNING: All log messages before absl::InitializeLog() is called are written to STDERR\n",
      "E0000 00:00:1752169120.284928  113212 cuda_dnn.cc:8579] Unable to register cuDNN factory: Attempting to register factory for plugin cuDNN when one has already been registered\n",
      "E0000 00:00:1752169120.300556  113212 cuda_blas.cc:1407] Unable to register cuBLAS factory: Attempting to register factory for plugin cuBLAS when one has already been registered\n",
      "W0000 00:00:1752169120.408005  113212 computation_placer.cc:177] computation placer already registered. Please check linkage and avoid linking the same target more than once.\n",
      "W0000 00:00:1752169120.408023  113212 computation_placer.cc:177] computation placer already registered. Please check linkage and avoid linking the same target more than once.\n",
      "W0000 00:00:1752169120.408025  113212 computation_placer.cc:177] computation placer already registered. Please check linkage and avoid linking the same target more than once.\n",
      "W0000 00:00:1752169120.408027  113212 computation_placer.cc:177] computation placer already registered. Please check linkage and avoid linking the same target more than once.\n",
      "2025-07-10 20:38:40.422267: I tensorflow/core/platform/cpu_feature_guard.cc:210] This TensorFlow binary is optimized to use available CPU instructions in performance-critical operations.\n",
      "To enable the following instructions: AVX2 FMA, in other operations, rebuild TensorFlow with the appropriate compiler flags.\n"
     ]
    },
    {
     "name": "stdout",
     "output_type": "stream",
     "text": [
      "[INFO] Tokenizer and sequences prepared. Vocab size: 227803\n"
     ]
    }
   ],
   "source": [
    "from src.features import prepare_tokenizer_and_sequences\n",
    "\n",
    "tokenizer, padded_sequences = prepare_tokenizer_and_sequences(texts, max_vocab=10000, max_len=300)\n"
   ]
  },
  {
   "cell_type": "code",
   "execution_count": 8,
   "id": "8bf2d51f-fa91-42a3-823c-d31f2727cf61",
   "metadata": {},
   "outputs": [
    {
     "name": "stdout",
     "output_type": "stream",
     "text": [
      "tokenizer saved to models/dl_tokenizer.pkl\n"
     ]
    }
   ],
   "source": [
    "from src.utils import save_pickle\n",
    "\n",
    "# Save the tokenizer\n",
    "save_pickle(tokenizer, \"models/dl_tokenizer.pkl\")\n",
    "\n"
   ]
  },
  {
   "cell_type": "code",
   "execution_count": 9,
   "id": "c15e30f2-4007-4dcd-bcb8-041610d01e9a",
   "metadata": {},
   "outputs": [
    {
     "name": "stdout",
     "output_type": "stream",
     "text": [
      "tokenizer saved to models/padded_sequences.pkl\n"
     ]
    }
   ],
   "source": [
    "save_pickle(padded_sequences, \"models/padded_sequences.pkl\")\n"
   ]
  },
  {
   "cell_type": "markdown",
   "id": "1d8e1351922b5893",
   "metadata": {},
   "source": [
    "# split the data"
   ]
  },
  {
   "cell_type": "code",
   "execution_count": 10,
   "id": "febf30cc-babe-4edb-b2cc-4a1179ceb85b",
   "metadata": {},
   "outputs": [
    {
     "name": "stdout",
     "output_type": "stream",
     "text": [
      "Loading tokenizer from models/padded_sequences.pkl\n"
     ]
    }
   ],
   "source": [
    "from src.utils import load_pickle\n",
    "\n",
    "padded_sequences = load_pickle(\"models/padded_sequences.pkl\")\n"
   ]
  },
  {
   "cell_type": "code",
   "execution_count": 11,
   "id": "9547a932eae053e1",
   "metadata": {},
   "outputs": [
    {
     "name": "stdout",
     "output_type": "stream",
     "text": [
      "Data split into train, validation, and test sets:\n"
     ]
    }
   ],
   "source": [
    "from src.utils import split_data\n",
    "\n",
    "\n",
    "X = df['clean_text']\n",
    "y = df['label']\n",
    "\n",
    "X_train, X_val, X_test, y_train, y_val, y_test = split_data(padded_sequences, y)"
   ]
  },
  {
   "cell_type": "markdown",
   "id": "8d82ab98ff8df2a7",
   "metadata": {},
   "source": [
    "# train the model"
   ]
  },
  {
   "cell_type": "code",
   "execution_count": 12,
   "id": "895054dd-7b62-44bd-b7ea-bedf9c45381d",
   "metadata": {},
   "outputs": [
    {
     "name": "stdout",
     "output_type": "stream",
     "text": [
      "Loading tokenizer from models/dl_tokenizer.pkl\n"
     ]
    }
   ],
   "source": [
    "from src.utils import load_pickle\n",
    "\n",
    "tokenizer = load_pickle(\"models/dl_tokenizer.pkl\")\n"
   ]
  },
  {
   "cell_type": "code",
   "execution_count": 13,
   "id": "3dfb24b7bebd61c4",
   "metadata": {},
   "outputs": [
    {
     "name": "stdout",
     "output_type": "stream",
     "text": [
      "[INFO] LSTM Model built with vocab size: 227804, embedding dim: 100, lstm units: 64\n",
      "Epoch 1/5\n"
     ]
    },
    {
     "name": "stderr",
     "output_type": "stream",
     "text": [
      "/home/rana-helal/miniconda3/envs/fake_news_env/lib/python3.10/site-packages/keras/src/layers/core/embedding.py:97: UserWarning: Argument `input_length` is deprecated. Just remove it.\n",
      "  warnings.warn(\n",
      "E0000 00:00:1752169200.375874  113212 cuda_executor.cc:1228] INTERNAL: CUDA Runtime error: Failed call to cudaGetRuntimeVersion: Error loading CUDA libraries. GPU will not be used.: Error loading CUDA libraries. GPU will not be used.\n",
      "W0000 00:00:1752169200.376764  113212 gpu_device.cc:2341] Cannot dlopen some GPU libraries. Please make sure the missing libraries mentioned above are installed properly if you would like to use GPU. Follow the guide at https://www.tensorflow.org/install/gpu for how to download and setup the required libraries for your platform.\n",
      "Skipping registering GPU devices...\n",
      "2025-07-10 20:40:02.349806: W external/local_xla/xla/tsl/framework/cpu_allocator_impl.cc:83] Allocation of 91121600 exceeds 10% of free system memory.\n",
      "2025-07-10 20:40:02.391041: W external/local_xla/xla/tsl/framework/cpu_allocator_impl.cc:83] Allocation of 91121600 exceeds 10% of free system memory.\n",
      "2025-07-10 20:40:02.533507: W external/local_xla/xla/tsl/framework/cpu_allocator_impl.cc:83] Allocation of 91121600 exceeds 10% of free system memory.\n",
      "2025-07-10 20:40:02.581857: W external/local_xla/xla/tsl/framework/cpu_allocator_impl.cc:83] Allocation of 91121600 exceeds 10% of free system memory.\n",
      "2025-07-10 20:40:02.630785: W external/local_xla/xla/tsl/framework/cpu_allocator_impl.cc:83] Allocation of 91121600 exceeds 10% of free system memory.\n"
     ]
    },
    {
     "name": "stdout",
     "output_type": "stream",
     "text": [
      "\u001B[1m482/482\u001B[0m \u001B[32m━━━━━━━━━━━━━━━━━━━━\u001B[0m\u001B[37m\u001B[0m \u001B[1m271s\u001B[0m 552ms/step - accuracy: 0.9341 - loss: 0.1385 - val_accuracy: 0.9991 - val_loss: 0.0052\n",
      "Epoch 2/5\n",
      "\u001B[1m482/482\u001B[0m \u001B[32m━━━━━━━━━━━━━━━━━━━━\u001B[0m\u001B[37m\u001B[0m \u001B[1m261s\u001B[0m 542ms/step - accuracy: 0.9992 - loss: 0.0051 - val_accuracy: 0.9993 - val_loss: 0.0050\n",
      "Epoch 3/5\n",
      "\u001B[1m482/482\u001B[0m \u001B[32m━━━━━━━━━━━━━━━━━━━━\u001B[0m\u001B[37m\u001B[0m \u001B[1m256s\u001B[0m 532ms/step - accuracy: 0.9996 - loss: 0.0016 - val_accuracy: 0.9991 - val_loss: 0.0056\n",
      "Epoch 4/5\n",
      "\u001B[1m482/482\u001B[0m \u001B[32m━━━━━━━━━━━━━━━━━━━━\u001B[0m\u001B[37m\u001B[0m \u001B[1m253s\u001B[0m 524ms/step - accuracy: 0.9996 - loss: 0.0022 - val_accuracy: 0.9989 - val_loss: 0.0060\n",
      "Epoch 5/5\n",
      "\u001B[1m482/482\u001B[0m \u001B[32m━━━━━━━━━━━━━━━━━━━━\u001B[0m\u001B[37m\u001B[0m \u001B[1m295s\u001B[0m 613ms/step - accuracy: 0.9999 - loss: 8.4287e-04 - val_accuracy: 0.9993 - val_loss: 0.0054\n",
      "Training curves saved to visualizations/training_curves/lstm_training_curves.png\n",
      "\u001B[1m138/138\u001B[0m \u001B[32m━━━━━━━━━━━━━━━━━━━━\u001B[0m\u001B[37m\u001B[0m \u001B[1m9s\u001B[0m 60ms/step\n"
     ]
    },
    {
     "name": "stderr",
     "output_type": "stream",
     "text": [
      "WARNING:absl:You are saving your model as an HDF5 file via `model.save()` or `keras.saving.save_model(model)`. This file format is considered legacy. We recommend using instead the native Keras format, e.g. `model.save('my_model.keras')` or `keras.saving.save_model(model, 'my_model.keras')`. \n"
     ]
    },
    {
     "name": "stdout",
     "output_type": "stream",
     "text": [
      "Confusion matrix saved to visualizations/confusion_matrices/lstm_confusion_matrix.png\n",
      "\u001B[1m138/138\u001B[0m \u001B[32m━━━━━━━━━━━━━━━━━━━━\u001B[0m\u001B[37m\u001B[0m \u001B[1m7s\u001B[0m 52ms/step\n",
      "[INFO] LSTM model trained and saved.\n"
     ]
    }
   ],
   "source": [
    "from src.models.lstm_model import train_lstm_model\n",
    "\n",
    "model, history = train_lstm_model(X_train, y_train, X_val, y_val, tokenizer)"
   ]
  },
  {
   "cell_type": "code",
   "execution_count": 14,
   "id": "9e9b5768ba7c7f60",
   "metadata": {},
   "outputs": [
    {
     "name": "stdout",
     "output_type": "stream",
     "text": [
      "Test Accuracy: 0.9983\n"
     ]
    }
   ],
   "source": [
    "from sklearn.metrics import accuracy_score\n",
    "\n",
    "loss, acc = model.evaluate(X_test, y_test, verbose=0)\n",
    "print(f\"Test Accuracy: {acc:.4f}\")\n"
   ]
  }
 ],
 "metadata": {
  "kernelspec": {
   "display_name": "Python 3 (ipykernel)",
   "language": "python",
   "name": "python3"
  },
  "language_info": {
   "codemirror_mode": {
    "name": "ipython",
    "version": 3
   },
   "file_extension": ".py",
   "mimetype": "text/x-python",
   "name": "python",
   "nbconvert_exporter": "python",
   "pygments_lexer": "ipython3",
   "version": "3.10.18"
  }
 },
 "nbformat": 4,
 "nbformat_minor": 5
}
