{
 "cells": [
  {
   "cell_type": "code",
   "id": "initial_id",
   "metadata": {
    "collapsed": true,
    "ExecuteTime": {
     "end_time": "2025-07-09T17:00:21.697148Z",
     "start_time": "2025-07-09T17:00:20.131835Z"
    }
   },
   "source": [
    "import sys\n",
    "\n",
    "from src.data_loader import load_kaggle_data\n",
    "import os\n",
    "os.chdir(\"/home/rana-helal/PycharmProjects/fake_news_classifier\")\n",
    "\n",
    "df_kaggle = load_kaggle_data()\n"
   ],
   "outputs": [],
   "execution_count": 9
  },
  {
   "metadata": {
    "ExecuteTime": {
     "end_time": "2025-07-09T17:00:40.212550Z",
     "start_time": "2025-07-09T17:00:33.742758Z"
    }
   },
   "cell_type": "code",
   "source": "!python -m spacy download en_core_web_sm\n",
   "id": "17549fa924bf1e3c",
   "outputs": [
    {
     "name": "stdout",
     "output_type": "stream",
     "text": [
      "Collecting en-core-web-sm==3.8.0\r\n",
      "  Using cached https://github.com/explosion/spacy-models/releases/download/en_core_web_sm-3.8.0/en_core_web_sm-3.8.0-py3-none-any.whl (12.8 MB)\r\n",
      "Installing collected packages: en-core-web-sm\r\n",
      "Successfully installed en-core-web-sm-3.8.0\r\n",
      "\u001B[38;5;2m✔ Download and installation successful\u001B[0m\r\n",
      "You can now load the package via spacy.load('en_core_web_sm')\r\n"
     ]
    }
   ],
   "execution_count": 11
  },
  {
   "metadata": {
    "ExecuteTime": {
     "end_time": "2025-07-09T17:08:06.023223Z",
     "start_time": "2025-07-09T17:08:06.014618Z"
    }
   },
   "cell_type": "code",
   "source": [
    "from tqdm import tqdm\n",
    "tqdm.pandas()\n"
   ],
   "id": "d9bd6521448270e1",
   "outputs": [],
   "execution_count": 13
  },
  {
   "metadata": {
    "ExecuteTime": {
     "end_time": "2025-07-09T17:08:07.549320Z",
     "start_time": "2025-07-09T17:08:07.130865Z"
    }
   },
   "cell_type": "code",
   "source": [
    "from src.preprocessing import remove_duplicates_and_missing, clean_for_ml\n",
    "\n",
    "# Apply text cleaning for ML models\n",
    "\n",
    "df_cleaned = remove_duplicates_and_missing(df_kaggle)\n"
   ],
   "id": "a7d2e6f6a4fb9b85",
   "outputs": [],
   "execution_count": 14
  },
  {
   "metadata": {
    "jupyter": {
     "is_executing": true
    },
    "ExecuteTime": {
     "start_time": "2025-07-09T17:08:17.947361Z"
    }
   },
   "cell_type": "code",
   "source": [
    "\n",
    "df_cleaned['clean_text'] = df_kaggle['text'].progress_apply(clean_for_ml)\n"
   ],
   "id": "1acc09b60149a692",
   "outputs": [
    {
     "name": "stderr",
     "output_type": "stream",
     "text": [
      "  1%|          | 516/44898 [00:20<30:37, 24.15it/s]"
     ]
    }
   ],
   "execution_count": null
  },
  {
   "metadata": {},
   "cell_type": "code",
   "outputs": [],
   "execution_count": null,
   "source": [
    "from src.utils import save_cleaned_data\n",
    "\n",
    "save_cleaned_data(df_cleaned, \"kaggle_clean_ml.csv\")"
   ],
   "id": "2c99dcd73ada64b4"
  }
 ],
 "metadata": {
  "kernelspec": {
   "display_name": "Python 3",
   "language": "python",
   "name": "python3"
  },
  "language_info": {
   "codemirror_mode": {
    "name": "ipython",
    "version": 2
   },
   "file_extension": ".py",
   "mimetype": "text/x-python",
   "name": "python",
   "nbconvert_exporter": "python",
   "pygments_lexer": "ipython2",
   "version": "2.7.6"
  }
 },
 "nbformat": 4,
 "nbformat_minor": 5
}
