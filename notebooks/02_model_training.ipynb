{
 "cells": [
  {
   "cell_type": "code",
   "execution_count": 1,
   "id": "initial_id",
   "metadata": {
    "ExecuteTime": {
     "end_time": "2025-07-09T17:00:21.697148Z",
     "start_time": "2025-07-09T17:00:20.131835Z"
    }
   },
   "outputs": [],
   "source": [
    "import sys\n",
    "import os\n",
    "os.chdir(\"/home/rana-helal/PycharmProjects/fake_news_classifier\")\n",
    "\n",
    "from src.data_loader import load_kaggle_data\n",
    "\n",
    "df_kaggle = load_kaggle_data()\n"
   ]
  },
  {
   "cell_type": "markdown",
   "id": "b7b2b4d654633a7d",
   "metadata": {
    "jp-MarkdownHeadingCollapsed": true
   },
   "source": [
    "# preprocessing\n"
   ]
  },
  {
   "cell_type": "code",
   "execution_count": 11,
   "id": "17549fa924bf1e3c",
   "metadata": {
    "ExecuteTime": {
     "end_time": "2025-07-09T17:00:40.212550Z",
     "start_time": "2025-07-09T17:00:33.742758Z"
    }
   },
   "outputs": [
    {
     "name": "stdout",
     "output_type": "stream",
     "text": [
      "Collecting en-core-web-sm==3.8.0\r\n",
      "  Using cached https://github.com/explosion/spacy-models/releases/download/en_core_web_sm-3.8.0/en_core_web_sm-3.8.0-py3-none-any.whl (12.8 MB)\r\n",
      "Installing collected packages: en-core-web-sm\r\n",
      "Successfully installed en-core-web-sm-3.8.0\r\n",
      "\u001B[38;5;2m✔ Download and installation successful\u001B[0m\r\n",
      "You can now load the package via spacy.load('en_core_web_sm')\r\n"
     ]
    }
   ],
   "source": [
    "#!python -m spacy download en_core_web_sm\n"
   ]
  },
  {
   "cell_type": "code",
   "execution_count": 13,
   "id": "d9bd6521448270e1",
   "metadata": {
    "ExecuteTime": {
     "end_time": "2025-07-09T17:08:06.023223Z",
     "start_time": "2025-07-09T17:08:06.014618Z"
    }
   },
   "outputs": [],
   "source": [
    "from tqdm import tqdm\n",
    "tqdm.pandas()\n"
   ]
  },
  {
   "cell_type": "code",
   "execution_count": 14,
   "id": "a7d2e6f6a4fb9b85",
   "metadata": {
    "ExecuteTime": {
     "end_time": "2025-07-09T17:08:07.549320Z",
     "start_time": "2025-07-09T17:08:07.130865Z"
    }
   },
   "outputs": [],
   "source": [
    "from src.preprocessing import remove_duplicates_and_missing, clean_for_ml\n",
    "\n",
    "# Apply text cleaning for ML models\n",
    "\n",
    "df_cleaned = remove_duplicates_and_missing(df_kaggle)\n"
   ]
  },
  {
   "cell_type": "code",
   "execution_count": 16,
   "id": "1acc09b60149a692",
   "metadata": {
    "ExecuteTime": {
     "end_time": "2025-07-09T17:50:41.570630Z",
     "start_time": "2025-07-09T17:26:34.164759Z"
    }
   },
   "outputs": [
    {
     "name": "stderr",
     "output_type": "stream",
     "text": [
      "100%|██████████| 44054/44054 [24:07<00:00, 30.44it/s]  \n"
     ]
    }
   ],
   "source": [
    "\n",
    "df_cleaned['clean_text'] = df_cleaned['text'].progress_apply(clean_for_ml)\n"
   ]
  },
  {
   "cell_type": "code",
   "execution_count": 17,
   "id": "2c99dcd73ada64b4",
   "metadata": {
    "ExecuteTime": {
     "end_time": "2025-07-09T17:50:45.216631Z",
     "start_time": "2025-07-09T17:50:41.584529Z"
    }
   },
   "outputs": [
    {
     "name": "stdout",
     "output_type": "stream",
     "text": [
      " Saved cleaned data to data/processed/kaggle_clean_ml.csv\n"
     ]
    }
   ],
   "source": [
    "from src.utils import save_cleaned_data\n",
    "\n",
    "save_cleaned_data(df_cleaned, \"kaggle_clean_ml.csv\")"
   ]
  },
  {
   "cell_type": "markdown",
   "id": "55c692c298000b38",
   "metadata": {},
   "source": [
    "# label encoding"
   ]
  },
  {
   "cell_type": "code",
   "execution_count": 2,
   "id": "5058016f5efe5334",
   "metadata": {
    "ExecuteTime": {
     "end_time": "2025-07-09T18:41:15.177321Z",
     "start_time": "2025-07-09T18:41:13.281837Z"
    }
   },
   "outputs": [
    {
     "data": {
      "text/html": [
       "<div>\n",
       "<style scoped>\n",
       "    .dataframe tbody tr th:only-of-type {\n",
       "        vertical-align: middle;\n",
       "    }\n",
       "\n",
       "    .dataframe tbody tr th {\n",
       "        vertical-align: top;\n",
       "    }\n",
       "\n",
       "    .dataframe thead th {\n",
       "        text-align: right;\n",
       "    }\n",
       "</style>\n",
       "<table border=\"1\" class=\"dataframe\">\n",
       "  <thead>\n",
       "    <tr style=\"text-align: right;\">\n",
       "      <th></th>\n",
       "      <th>title</th>\n",
       "      <th>text</th>\n",
       "      <th>subject</th>\n",
       "      <th>label</th>\n",
       "      <th>clean_text</th>\n",
       "    </tr>\n",
       "  </thead>\n",
       "  <tbody>\n",
       "    <tr>\n",
       "      <th>0</th>\n",
       "      <td>Trump Gets HUMILIATED By His Own Joint Chiefs...</td>\n",
       "      <td>It appears Donald Trump jumped the gun when he...</td>\n",
       "      <td>News</td>\n",
       "      <td>fake</td>\n",
       "      <td>appear donald trump jump gun announce ban tran...</td>\n",
       "    </tr>\n",
       "    <tr>\n",
       "      <th>1</th>\n",
       "      <td>Myanmar bars U.N. rights investigator before v...</td>\n",
       "      <td>GENEVA (Reuters) - The U.N. independent invest...</td>\n",
       "      <td>worldnews</td>\n",
       "      <td>real</td>\n",
       "      <td>geneva reuters un independent investigator hum...</td>\n",
       "    </tr>\n",
       "    <tr>\n",
       "      <th>2</th>\n",
       "      <td>UNREAL! SHEILA JACKSON LEE DEMANDS THAT TRUMP ...</td>\n",
       "      <td>Neil Cavuto faced off with Congresswoman Sheil...</td>\n",
       "      <td>politics</td>\n",
       "      <td>fake</td>\n",
       "      <td>neil cavuto face congresswoman sheila jackson ...</td>\n",
       "    </tr>\n",
       "    <tr>\n",
       "      <th>3</th>\n",
       "      <td>White House's Cohn says 'fair trade' means rec...</td>\n",
       "      <td>WASHINGTON (Reuters) - The Trump administratio...</td>\n",
       "      <td>politicsNews</td>\n",
       "      <td>real</td>\n",
       "      <td>washington reuters trump administration want t...</td>\n",
       "    </tr>\n",
       "    <tr>\n",
       "      <th>4</th>\n",
       "      <td>WOW! WIKILEAKS Emails Shows How Hillary Will B...</td>\n",
       "      <td>Clinton s radicalized rhetoric has championed...</td>\n",
       "      <td>politics</td>\n",
       "      <td>fake</td>\n",
       "      <td>clinton s radicalize rhetoric champion ban cal...</td>\n",
       "    </tr>\n",
       "  </tbody>\n",
       "</table>\n",
       "</div>"
      ],
      "text/plain": [
       "                                               title  \\\n",
       "0   Trump Gets HUMILIATED By His Own Joint Chiefs...   \n",
       "1  Myanmar bars U.N. rights investigator before v...   \n",
       "2  UNREAL! SHEILA JACKSON LEE DEMANDS THAT TRUMP ...   \n",
       "3  White House's Cohn says 'fair trade' means rec...   \n",
       "4  WOW! WIKILEAKS Emails Shows How Hillary Will B...   \n",
       "\n",
       "                                                text       subject label  \\\n",
       "0  It appears Donald Trump jumped the gun when he...          News  fake   \n",
       "1  GENEVA (Reuters) - The U.N. independent invest...     worldnews  real   \n",
       "2  Neil Cavuto faced off with Congresswoman Sheil...      politics  fake   \n",
       "3  WASHINGTON (Reuters) - The Trump administratio...  politicsNews  real   \n",
       "4   Clinton s radicalized rhetoric has championed...      politics  fake   \n",
       "\n",
       "                                          clean_text  \n",
       "0  appear donald trump jump gun announce ban tran...  \n",
       "1  geneva reuters un independent investigator hum...  \n",
       "2  neil cavuto face congresswoman sheila jackson ...  \n",
       "3  washington reuters trump administration want t...  \n",
       "4  clinton s radicalize rhetoric champion ban cal...  "
      ]
     },
     "execution_count": 2,
     "metadata": {},
     "output_type": "execute_result"
    }
   ],
   "source": [
    "import pandas as pd\n",
    "\n",
    "df = pd.read_csv(\"data/processed/kaggle_clean_ml.csv\")\n",
    "df.head()\n"
   ]
  },
  {
   "cell_type": "code",
   "execution_count": 3,
   "id": "a89e60db716ba5ef",
   "metadata": {
    "ExecuteTime": {
     "end_time": "2025-07-09T18:41:23.453593Z",
     "start_time": "2025-07-09T18:41:23.438821Z"
    }
   },
   "outputs": [],
   "source": [
    "df['label'] = df['label'].map({'fake': 0, 'real': 1})"
   ]
  },
  {
   "cell_type": "code",
   "execution_count": 4,
   "id": "e928268529673b9",
   "metadata": {
    "ExecuteTime": {
     "end_time": "2025-07-09T18:41:41.718599Z",
     "start_time": "2025-07-09T18:41:41.699412Z"
    }
   },
   "outputs": [
    {
     "data": {
      "text/plain": [
       "label\n",
       "0    22847\n",
       "1    21207\n",
       "Name: count, dtype: int64"
      ]
     },
     "execution_count": 4,
     "metadata": {},
     "output_type": "execute_result"
    }
   ],
   "source": [
    "df['label'].value_counts()\n"
   ]
  },
  {
   "cell_type": "markdown",
   "id": "17b4e87f40830d65",
   "metadata": {},
   "source": [
    "# Prepare TF-IDF vectorization"
   ]
  },
  {
   "cell_type": "code",
   "execution_count": 10,
   "id": "449c633ba4df0d64",
   "metadata": {
    "ExecuteTime": {
     "end_time": "2025-07-09T18:43:03.416700Z",
     "start_time": "2025-07-09T18:43:03.404473Z"
    }
   },
   "outputs": [],
   "source": [
    "texts = df[\"clean_text\"].astype(str)\n"
   ]
  },
  {
   "cell_type": "code",
   "execution_count": 11,
   "id": "56ea381a476bfe37",
   "metadata": {
    "ExecuteTime": {
     "end_time": "2025-07-09T18:43:09.813057Z",
     "start_time": "2025-07-09T18:43:04.605527Z"
    },
    "scrolled": true
   },
   "outputs": [],
   "source": [
    "from sklearn.feature_extraction.text import TfidfVectorizer\n",
    "df = df.dropna(subset=[\"clean_text\"])\n",
    "\n",
    "tfidf = TfidfVectorizer(max_features=10000)\n",
    "X_tfidf = tfidf.fit_transform(df[\"clean_text\"])\n"
   ]
  },
  {
   "cell_type": "code",
   "execution_count": 12,
   "id": "ee902fa93813fa14",
   "metadata": {},
   "outputs": [
    {
     "name": "stdout",
     "output_type": "stream",
     "text": [
      "tokenizer saved to models/tfidf_vectorizer.pkl\n"
     ]
    }
   ],
   "source": [
    "from src.utils import save_pickle\n",
    "save_pickle(tfidf, \"models/tfidf_vectorizer.pkl\")\n"
   ]
  },
  {
   "cell_type": "markdown",
   "id": "eba6aad7d4b5b37e",
   "metadata": {},
   "source": [
    "\n",
    "# split the data"
   ]
  },
  {
   "cell_type": "code",
   "execution_count": 8,
   "id": "cf1274f2f6a0d432",
   "metadata": {},
   "outputs": [
    {
     "name": "stdout",
     "output_type": "stream",
     "text": [
      "Loading tokenizer from models/tfidf_vectorizer.pkl\n"
     ]
    }
   ],
   "source": [
    "from src.utils import load_pickle\n",
    "\n",
    "tfidf = load_pickle(\"models/tfidf_vectorizer.pkl\")\n"
   ]
  },
  {
   "cell_type": "code",
   "execution_count": 13,
   "id": "6730e0e4b22a774a",
   "metadata": {},
   "outputs": [
    {
     "name": "stdout",
     "output_type": "stream",
     "text": [
      "Data split into train, validation, and test sets:\n"
     ]
    }
   ],
   "source": [
    "from src.utils import split_data\n",
    "\n",
    "y = df['label']\n",
    "\n",
    "X_train, X_val, X_test, y_train, y_val, y_test = split_data(X_tfidf, y)"
   ]
  },
  {
   "cell_type": "markdown",
   "id": "3ef47cadd27953f2",
   "metadata": {},
   "source": [
    "# train the model"
   ]
  },
  {
   "cell_type": "code",
   "execution_count": 14,
   "id": "d9b06bf546140d6f",
   "metadata": {},
   "outputs": [
    {
     "name": "stdout",
     "output_type": "stream",
     "text": [
      "Confusion matrix saved to visualizations/confusion_matrices/logistic_cm.png\n",
      "[INFO] Logistic Regression model trained and saved as 'logistic_model.h5'.\n"
     ]
    }
   ],
   "source": [
    "from src.models.logistic_model import train_logistic_model\n",
    "\n",
    "model = train_logistic_model(X_train, y_train, X_val, y_val)\n"
   ]
  },
  {
   "cell_type": "code",
   "execution_count": 15,
   "id": "79a151d7b1a55142",
   "metadata": {},
   "outputs": [
    {
     "name": "stdout",
     "output_type": "stream",
     "text": [
      "Test Accuracy: 0.9851034796452126\n"
     ]
    }
   ],
   "source": [
    "from sklearn.metrics import accuracy_score\n",
    "\n",
    "y_pred_test = model.predict(X_test)\n",
    "print(f\"Test Accuracy: {accuracy_score(y_test, y_pred_test.round())}\")"
   ]
  }
 ],
 "metadata": {
  "kernelspec": {
   "display_name": "Python 3 (ipykernel)",
   "language": "python",
   "name": "python3"
  },
  "language_info": {
   "codemirror_mode": {
    "name": "ipython",
    "version": 3
   },
   "file_extension": ".py",
   "mimetype": "text/x-python",
   "name": "python",
   "nbconvert_exporter": "python",
   "pygments_lexer": "ipython3",
   "version": "3.10.18"
  }
 },
 "nbformat": 4,
 "nbformat_minor": 5
}
