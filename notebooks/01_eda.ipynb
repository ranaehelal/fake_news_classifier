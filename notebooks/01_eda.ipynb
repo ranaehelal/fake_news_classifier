{
 "cells": [
  {
   "metadata": {},
   "cell_type": "markdown",
   "source": "# load datasets",
   "id": "db4f288b909c58a8"
  },
  {
   "metadata": {
    "ExecuteTime": {
     "end_time": "2025-07-09T05:30:25.948270Z",
     "start_time": "2025-07-09T05:30:25.939692Z"
    }
   },
   "cell_type": "code",
   "source": [
    "import os\n",
    "os.chdir(\"/home/rana-helal/PycharmProjects/fake_news_classifier\")\n",
    "print(\"Now at:\", os.getcwd())\n"
   ],
   "id": "7b6c2c26a80fa43b",
   "outputs": [
    {
     "name": "stdout",
     "output_type": "stream",
     "text": [
      "Now at: /home/rana-helal/PycharmProjects/fake_news_classifier\n"
     ]
    }
   ],
   "execution_count": 111
  },
  {
   "metadata": {
    "ExecuteTime": {
     "end_time": "2025-07-09T05:30:25.992571Z",
     "start_time": "2025-07-09T05:30:25.968640Z"
    }
   },
   "cell_type": "code",
   "source": [
    "import importlib\n",
    "import src.data_loader\n",
    "importlib.reload(src.data_loader)\n"
   ],
   "id": "91f3cdf5008ed2c4",
   "outputs": [
    {
     "data": {
      "text/plain": [
       "<module 'src.data_loader' from '/home/rana-helal/PycharmProjects/fake_news_classifier/src/data_loader.py'>"
      ]
     },
     "execution_count": 112,
     "metadata": {},
     "output_type": "execute_result"
    }
   ],
   "execution_count": 112
  },
  {
   "cell_type": "code",
   "id": "initial_id",
   "metadata": {
    "collapsed": true,
    "ExecuteTime": {
     "end_time": "2025-07-09T05:30:29.093706Z",
     "start_time": "2025-07-09T05:30:26.022852Z"
    }
   },
   "source": [
    "from src.data_loader import load_kaggle_data, load_fakenewsnet_data, load_combined_data\n",
    "df_kaggle = load_kaggle_data()\n",
    "df_fnn = load_fakenewsnet_data()\n",
    "df_all = load_combined_data()\n"
   ],
   "outputs": [],
   "execution_count": 113
  },
  {
   "metadata": {},
   "cell_type": "markdown",
   "source": "# eda for kaggle data",
   "id": "bd1a11a1b986becc"
  },
  {
   "metadata": {},
   "cell_type": "markdown",
   "source": "## basic infos",
   "id": "d84ade1ee12a96a0"
  },
  {
   "metadata": {
    "ExecuteTime": {
     "end_time": "2025-07-09T05:30:29.101856Z",
     "start_time": "2025-07-09T05:30:29.096828Z"
    }
   },
   "cell_type": "code",
   "source": "(df_kaggle.head(2))",
   "id": "4f9c0914cbef80b",
   "outputs": [
    {
     "data": {
      "text/plain": [
       "                                               title  \\\n",
       "0  UNREAL! OBAMA SAYS HIROSHIMA TOUR to Honor “Al...   \n",
       "1  Factbox: Humanitarian crisis in Bangladesh as ...   \n",
       "\n",
       "                                                text    subject label  \n",
       "0  Barack Obama s historic visit to Hiroshima thi...   politics  fake  \n",
       "1  (Reuters) - About 270,000 Muslim Rohingya flee...  worldnews  real  "
      ],
      "text/html": [
       "<div>\n",
       "<style scoped>\n",
       "    .dataframe tbody tr th:only-of-type {\n",
       "        vertical-align: middle;\n",
       "    }\n",
       "\n",
       "    .dataframe tbody tr th {\n",
       "        vertical-align: top;\n",
       "    }\n",
       "\n",
       "    .dataframe thead th {\n",
       "        text-align: right;\n",
       "    }\n",
       "</style>\n",
       "<table border=\"1\" class=\"dataframe\">\n",
       "  <thead>\n",
       "    <tr style=\"text-align: right;\">\n",
       "      <th></th>\n",
       "      <th>title</th>\n",
       "      <th>text</th>\n",
       "      <th>subject</th>\n",
       "      <th>label</th>\n",
       "    </tr>\n",
       "  </thead>\n",
       "  <tbody>\n",
       "    <tr>\n",
       "      <th>0</th>\n",
       "      <td>UNREAL! OBAMA SAYS HIROSHIMA TOUR to Honor “Al...</td>\n",
       "      <td>Barack Obama s historic visit to Hiroshima thi...</td>\n",
       "      <td>politics</td>\n",
       "      <td>fake</td>\n",
       "    </tr>\n",
       "    <tr>\n",
       "      <th>1</th>\n",
       "      <td>Factbox: Humanitarian crisis in Bangladesh as ...</td>\n",
       "      <td>(Reuters) - About 270,000 Muslim Rohingya flee...</td>\n",
       "      <td>worldnews</td>\n",
       "      <td>real</td>\n",
       "    </tr>\n",
       "  </tbody>\n",
       "</table>\n",
       "</div>"
      ]
     },
     "execution_count": 114,
     "metadata": {},
     "output_type": "execute_result"
    }
   ],
   "execution_count": 114
  },
  {
   "metadata": {
    "ExecuteTime": {
     "end_time": "2025-07-09T05:30:29.165708Z",
     "start_time": "2025-07-09T05:30:29.145667Z"
    }
   },
   "cell_type": "code",
   "source": "df_kaggle.info()",
   "id": "4d843434b1b41ad0",
   "outputs": [
    {
     "name": "stdout",
     "output_type": "stream",
     "text": [
      "<class 'pandas.core.frame.DataFrame'>\n",
      "RangeIndex: 44898 entries, 0 to 44897\n",
      "Data columns (total 4 columns):\n",
      " #   Column   Non-Null Count  Dtype \n",
      "---  ------   --------------  ----- \n",
      " 0   title    44898 non-null  object\n",
      " 1   text     44898 non-null  object\n",
      " 2   subject  44898 non-null  object\n",
      " 3   label    44898 non-null  object\n",
      "dtypes: object(4)\n",
      "memory usage: 1.4+ MB\n"
     ]
    }
   ],
   "execution_count": 115
  },
  {
   "metadata": {
    "ExecuteTime": {
     "end_time": "2025-07-09T05:30:29.488452Z",
     "start_time": "2025-07-09T05:30:29.210375Z"
    }
   },
   "cell_type": "code",
   "source": "df_kaggle.describe()",
   "id": "8f16915ba8086c04",
   "outputs": [
    {
     "data": {
      "text/plain": [
       "                                                    title   text  \\\n",
       "count                                               44898  44898   \n",
       "unique                                              38729  38646   \n",
       "top     Factbox: Trump fills top jobs for his administ...          \n",
       "freq                                                   14    627   \n",
       "\n",
       "             subject  label  \n",
       "count          44898  44898  \n",
       "unique             8      2  \n",
       "top     politicsNews   fake  \n",
       "freq           11272  23481  "
      ],
      "text/html": [
       "<div>\n",
       "<style scoped>\n",
       "    .dataframe tbody tr th:only-of-type {\n",
       "        vertical-align: middle;\n",
       "    }\n",
       "\n",
       "    .dataframe tbody tr th {\n",
       "        vertical-align: top;\n",
       "    }\n",
       "\n",
       "    .dataframe thead th {\n",
       "        text-align: right;\n",
       "    }\n",
       "</style>\n",
       "<table border=\"1\" class=\"dataframe\">\n",
       "  <thead>\n",
       "    <tr style=\"text-align: right;\">\n",
       "      <th></th>\n",
       "      <th>title</th>\n",
       "      <th>text</th>\n",
       "      <th>subject</th>\n",
       "      <th>label</th>\n",
       "    </tr>\n",
       "  </thead>\n",
       "  <tbody>\n",
       "    <tr>\n",
       "      <th>count</th>\n",
       "      <td>44898</td>\n",
       "      <td>44898</td>\n",
       "      <td>44898</td>\n",
       "      <td>44898</td>\n",
       "    </tr>\n",
       "    <tr>\n",
       "      <th>unique</th>\n",
       "      <td>38729</td>\n",
       "      <td>38646</td>\n",
       "      <td>8</td>\n",
       "      <td>2</td>\n",
       "    </tr>\n",
       "    <tr>\n",
       "      <th>top</th>\n",
       "      <td>Factbox: Trump fills top jobs for his administ...</td>\n",
       "      <td></td>\n",
       "      <td>politicsNews</td>\n",
       "      <td>fake</td>\n",
       "    </tr>\n",
       "    <tr>\n",
       "      <th>freq</th>\n",
       "      <td>14</td>\n",
       "      <td>627</td>\n",
       "      <td>11272</td>\n",
       "      <td>23481</td>\n",
       "    </tr>\n",
       "  </tbody>\n",
       "</table>\n",
       "</div>"
      ]
     },
     "execution_count": 116,
     "metadata": {},
     "output_type": "execute_result"
    }
   ],
   "execution_count": 116
  },
  {
   "metadata": {
    "ExecuteTime": {
     "end_time": "2025-07-09T05:30:29.498238Z",
     "start_time": "2025-07-09T05:30:29.493882Z"
    }
   },
   "cell_type": "code",
   "source": "df_kaggle.shape",
   "id": "5a277c49b3053315",
   "outputs": [
    {
     "data": {
      "text/plain": [
       "(44898, 4)"
      ]
     },
     "execution_count": 117,
     "metadata": {},
     "output_type": "execute_result"
    }
   ],
   "execution_count": 117
  },
  {
   "metadata": {},
   "cell_type": "markdown",
   "source": "### distribution",
   "id": "70059dc573a67d3a"
  },
  {
   "metadata": {
    "ExecuteTime": {
     "end_time": "2025-07-09T05:30:29.552538Z",
     "start_time": "2025-07-09T05:30:29.542218Z"
    }
   },
   "cell_type": "code",
   "source": "print(\"Kaggle labels:\", df_kaggle['label'].value_counts())\n",
   "id": "ee0abb3443d5ca0",
   "outputs": [
    {
     "name": "stdout",
     "output_type": "stream",
     "text": [
      "Kaggle labels: label\n",
      "fake    23481\n",
      "real    21417\n",
      "Name: count, dtype: int64\n"
     ]
    }
   ],
   "execution_count": 118
  },
  {
   "metadata": {},
   "cell_type": "markdown",
   "source": "### text length",
   "id": "3a804cd9cceac528"
  },
  {
   "metadata": {
    "ExecuteTime": {
     "end_time": "2025-07-09T05:32:21.209928Z",
     "start_time": "2025-07-09T05:32:21.124172Z"
    }
   },
   "cell_type": "code",
   "source": "print(df_kaggle['text'].apply(lambda x: len(str(x))))",
   "id": "b6871344d6df448f",
   "outputs": [
    {
     "name": "stdout",
     "output_type": "stream",
     "text": [
      "0         199\n",
      "1        2134\n",
      "2        9352\n",
      "3        4070\n",
      "4        1949\n",
      "         ... \n",
      "44893     314\n",
      "44894    2865\n",
      "44895    1930\n",
      "44896    2575\n",
      "44897    2403\n",
      "Name: text, Length: 44898, dtype: int64\n"
     ]
    }
   ],
   "execution_count": 143
  },
  {
   "metadata": {},
   "cell_type": "markdown",
   "source": "### check for null",
   "id": "ecaf896fb8d78bd8"
  },
  {
   "metadata": {
    "ExecuteTime": {
     "end_time": "2025-07-09T05:30:29.729480Z",
     "start_time": "2025-07-09T05:30:29.683995Z"
    }
   },
   "cell_type": "code",
   "source": "df_kaggle.isnull().sum()",
   "id": "512dc519a2ee5ab6",
   "outputs": [
    {
     "data": {
      "text/plain": [
       "title      0\n",
       "text       0\n",
       "subject    0\n",
       "label      0\n",
       "dtype: int64"
      ]
     },
     "execution_count": 120,
     "metadata": {},
     "output_type": "execute_result"
    }
   ],
   "execution_count": 120
  },
  {
   "metadata": {},
   "cell_type": "markdown",
   "source": "### check for duplicate",
   "id": "fea6832c32c31626"
  },
  {
   "metadata": {
    "ExecuteTime": {
     "end_time": "2025-07-09T05:30:30.210206Z",
     "start_time": "2025-07-09T05:30:29.775307Z"
    }
   },
   "cell_type": "code",
   "source": "df_kaggle.duplicated().sum()",
   "id": "8adfd59ae091f58",
   "outputs": [
    {
     "data": {
      "text/plain": [
       "np.int64(213)"
      ]
     },
     "execution_count": 121,
     "metadata": {},
     "output_type": "execute_result"
    }
   ],
   "execution_count": 121
  },
  {
   "metadata": {},
   "cell_type": "markdown",
   "source": "### links",
   "id": "17196840f7f41ae5"
  },
  {
   "metadata": {
    "ExecuteTime": {
     "end_time": "2025-07-09T06:04:28.229464Z",
     "start_time": "2025-07-09T06:04:27.899908Z"
    }
   },
   "cell_type": "code",
   "source": [
    "link_percentage = df_kaggle['text'].str.contains(r\"http\\S+\").mean() * 100\n",
    "print(f\"links in news: {link_percentage:.2f}%\")\n"
   ],
   "id": "6c4c8ecea7f201af",
   "outputs": [
    {
     "name": "stdout",
     "output_type": "stream",
     "text": [
      "links in news: 7.35%\n"
     ]
    }
   ],
   "execution_count": 158
  },
  {
   "metadata": {},
   "cell_type": "markdown",
   "source": "### numbers",
   "id": "448d23b524449210"
  },
  {
   "metadata": {
    "ExecuteTime": {
     "end_time": "2025-07-09T06:05:01.371478Z",
     "start_time": "2025-07-09T06:05:00.812574Z"
    }
   },
   "cell_type": "code",
   "source": [
    "number_percentage = df_kaggle['text'].str.contains(r\"\\d\").mean() * 100\n",
    "print(f\"numbers in news: {number_percentage:.2f}%\")"
   ],
   "id": "27a0ee60539ce8f9",
   "outputs": [
    {
     "name": "stdout",
     "output_type": "stream",
     "text": [
      "numbers in news: 80.75%\n"
     ]
    }
   ],
   "execution_count": 159
  },
  {
   "metadata": {},
   "cell_type": "markdown",
   "source": "### sumbols",
   "id": "339ea63968311021"
  },
  {
   "metadata": {
    "ExecuteTime": {
     "end_time": "2025-07-09T06:05:59.360263Z",
     "start_time": "2025-07-09T06:05:58.490242Z"
    }
   },
   "cell_type": "code",
   "source": [
    "symbols_percentage = df_kaggle['text'].str.contains(r\"[#@!$%^&*]\").mean() * 100\n",
    "print(f\"symbols in news: {symbols_percentage:.2f}%\")"
   ],
   "id": "cf78523575048b42",
   "outputs": [
    {
     "name": "stdout",
     "output_type": "stream",
     "text": [
      "symbols in news: 43.39%\n"
     ]
    }
   ],
   "execution_count": 160
  },
  {
   "metadata": {
    "ExecuteTime": {
     "end_time": "2025-07-09T17:38:40.617345Z",
     "start_time": "2025-07-09T17:38:39.110920Z"
    }
   },
   "cell_type": "code",
   "source": "pip install emoji",
   "id": "99a511f4d2db7c48",
   "outputs": [
    {
     "name": "stdout",
     "output_type": "stream",
     "text": [
      "Requirement already satisfied: emoji in /home/rana-helal/miniconda3/lib/python3.12/site-packages (2.14.1)\r\n",
      "Note: you may need to restart the kernel to use updated packages.\n"
     ]
    }
   ],
   "execution_count": 180
  },
  {
   "metadata": {
    "ExecuteTime": {
     "end_time": "2025-07-09T17:39:40.146140Z",
     "start_time": "2025-07-09T17:39:33.615392Z"
    }
   },
   "cell_type": "code",
   "source": [
    "import emoji\n",
    "\n",
    "def contains_emoji(text):\n",
    "    return any(char in emoji.EMOJI_DATA for char in str(text))\n",
    "\n",
    "df_kaggle['has_emoji'] = df_kaggle['text'].apply(contains_emoji)\n",
    "print(\"Emoji presence:\", round(df_kaggle['has_emoji'].mean() * 100, 2), \"%\")\n"
   ],
   "id": "872e61f7778ae054",
   "outputs": [
    {
     "name": "stdout",
     "output_type": "stream",
     "text": [
      "Emoji presence: 0.0 %\n"
     ]
    }
   ],
   "execution_count": 183
  },
  {
   "metadata": {},
   "cell_type": "markdown",
   "source": "### check for another language",
   "id": "5d6b611c56c7c817"
  },
  {
   "metadata": {
    "ExecuteTime": {
     "end_time": "2025-07-09T06:14:31.198915Z",
     "start_time": "2025-07-09T06:10:16.192596Z"
    }
   },
   "cell_type": "code",
   "source": [
    "from langdetect import detect, LangDetectException\n",
    "\n",
    "def safe_detect(text):\n",
    "    try:\n",
    "        if not text or len(text.strip()) < 3:\n",
    "            return \"unknown\"\n",
    "        return detect(text)\n",
    "    except LangDetectException:\n",
    "        return \"unknown\"\n",
    "\n",
    "df_kaggle['lang'] = df_kaggle['text'].apply(lambda x: safe_detect(str(x)))\n"
   ],
   "id": "73c21f388ba6add3",
   "outputs": [],
   "execution_count": 164
  },
  {
   "metadata": {
    "ExecuteTime": {
     "end_time": "2025-07-09T06:15:30.043897Z",
     "start_time": "2025-07-09T06:15:30.032167Z"
    }
   },
   "cell_type": "code",
   "source": [
    "non_english_ratio = (df_kaggle['lang'] != 'en').mean() * 100\n",
    "print(f\"Percentage of non-English texts: {non_english_ratio:.2f}%\")\n"
   ],
   "id": "a43ea7b09e69fe6c",
   "outputs": [
    {
     "name": "stdout",
     "output_type": "stream",
     "text": [
      "Percentage of non-English texts: 1.69%\n"
     ]
    }
   ],
   "execution_count": 165
  },
  {
   "metadata": {
    "ExecuteTime": {
     "end_time": "2025-07-09T06:16:03.622712Z",
     "start_time": "2025-07-09T06:16:03.608429Z"
    }
   },
   "cell_type": "code",
   "source": "df_kaggle.drop(columns=['lang'], inplace=True)\n",
   "id": "c74ce710af1aa9df",
   "outputs": [],
   "execution_count": 166
  },
  {
   "metadata": {},
   "cell_type": "markdown",
   "source": "## visualization",
   "id": "8569197b87074737"
  },
  {
   "metadata": {
    "ExecuteTime": {
     "end_time": "2025-07-09T05:30:30.216524Z",
     "start_time": "2025-07-09T05:30:30.214046Z"
    }
   },
   "cell_type": "code",
   "source": [
    "import seaborn as sns\n",
    "import matplotlib.pyplot as plt\n",
    "from src.utils.eda_utils import generate_wordcloud\n"
   ],
   "id": "330e75904369817b",
   "outputs": [],
   "execution_count": 122
  },
  {
   "metadata": {},
   "cell_type": "markdown",
   "source": "### Distribution",
   "id": "e72184409629b6e4"
  },
  {
   "metadata": {
    "ExecuteTime": {
     "end_time": "2025-07-09T05:30:30.406900Z",
     "start_time": "2025-07-09T05:30:30.259604Z"
    }
   },
   "cell_type": "code",
   "source": [
    "sns.countplot(data=df_kaggle,x='label')\n",
    "plt.title('Kaggle dataset Distribution')\n",
    "plt.show()"
   ],
   "id": "eef9904833727a0c",
   "outputs": [
    {
     "data": {
      "text/plain": [
       "<Figure size 640x480 with 1 Axes>"
      ],
      "image/png": "[encoded data removed]"
     },
     "metadata": {},
     "output_type": "display_data"
    }
   ],
   "execution_count": 123
  },
  {
   "metadata": {},
   "cell_type": "markdown",
   "source": "### Text Lengths",
   "id": "4737213ce63bd4c6"
  },
  {
   "metadata": {
    "ExecuteTime": {
     "end_time": "2025-07-09T05:34:00.260937Z",
     "start_time": "2025-07-09T05:33:58.704877Z"
    }
   },
   "cell_type": "code",
   "source": [
    "df_kaggle['text_len'] = df_kaggle['text'].apply(lambda x: len(str(x).split()))\n",
    "\n",
    "sns.histplot(data=df_kaggle, x='text_len', bins=40, hue='label', kde=True)\n",
    "plt.title(\"Text Length Distribution by Label\")\n",
    "plt.show()\n",
    "df_kaggle.drop(columns=['text_len'], inplace=True)\n"
   ],
   "id": "cd9c78690c8b2866",
   "outputs": [
    {
     "data": {
      "text/plain": [
       "<Figure size 640x480 with 1 Axes>"
      ],
      "image/png": "[encoded data removed]"
     },
     "metadata": {},
     "output_type": "display_data"
    }
   ],
   "execution_count": 148
  },
  {
   "metadata": {},
   "cell_type": "markdown",
   "source": "### sentence length",
   "id": "4dca0d28f6cff746"
  },
  {
   "metadata": {
    "ExecuteTime": {
     "end_time": "2025-07-09T05:53:39.602361Z",
     "start_time": "2025-07-09T05:53:37.985585Z"
    }
   },
   "cell_type": "code",
   "source": [
    "sns.boxplot(data=df_kaggle, x='label', y=df_kaggle['text'].apply(lambda x: len(str(x).split())))\n",
    "plt.title(\"Text Length per Label\")\n",
    "plt.show()\n"
   ],
   "id": "6a68a41a698ccf9f",
   "outputs": [
    {
     "data": {
      "text/plain": [
       "<Figure size 640x480 with 1 Axes>"
      ],
      "image/png": "[encoded data removed]"
     },
     "metadata": {},
     "output_type": "display_data"
    }
   ],
   "execution_count": 154
  },
  {
   "metadata": {},
   "cell_type": "markdown",
   "source": "### word cloud",
   "id": "1204c76271540d2b"
  },
  {
   "metadata": {
    "ExecuteTime": {
     "end_time": "2025-07-09T05:30:31.794919Z",
     "start_time": "2025-07-09T05:30:31.791114Z"
    }
   },
   "cell_type": "code",
   "source": "importlib.reload(src.utils)\n",
   "id": "ccd0bfb22465aeaa",
   "outputs": [
    {
     "data": {
      "text/plain": [
       "<module 'src.utils' from '/home/rana-helal/PycharmProjects/fake_news_classifier/src/utils.py'>"
      ]
     },
     "execution_count": 125,
     "metadata": {},
     "output_type": "execute_result"
    }
   ],
   "execution_count": 125
  },
  {
   "metadata": {
    "ExecuteTime": {
     "end_time": "2025-07-09T05:30:49.742692Z",
     "start_time": "2025-07-09T05:30:31.907768Z"
    }
   },
   "cell_type": "code",
   "source": "generate_wordcloud(df_kaggle, label=\"fake\", source=\"kaggle\")\n",
   "id": "65d0b86665b75b5b",
   "outputs": [],
   "execution_count": 126
  },
  {
   "metadata": {
    "ExecuteTime": {
     "end_time": "2025-07-09T05:31:05.148042Z",
     "start_time": "2025-07-09T05:30:49.746584Z"
    }
   },
   "cell_type": "code",
   "source": "generate_wordcloud(df_kaggle, label=\"real\", source=\"kaggle\")\n",
   "id": "a7a931e0118197dc",
   "outputs": [],
   "execution_count": 127
  },
  {
   "metadata": {},
   "cell_type": "markdown",
   "source": "### top words\n",
   "id": "db35719771e7be59"
  },
  {
   "metadata": {
    "ExecuteTime": {
     "end_time": "2025-07-09T15:30:36.959707Z",
     "start_time": "2025-07-09T15:30:28.539711Z"
    }
   },
   "cell_type": "code",
   "source": [
    "importlib.reload(src.eda.eda_utils)\n",
    "\n",
    "from src.utils.eda_utils import get_top_n_words\n",
    "from src.utils.eda_utils import plot_top_words\n",
    "\n",
    "real_texts = df_kaggle[df_kaggle['label'] == 'real']['text'].dropna().astype(str)\n",
    "real_texts = get_top_n_words(real_texts, n=20)"
   ],
   "id": "93e4919e3c0c2264",
   "outputs": [],
   "execution_count": 172
  },
  {
   "metadata": {
    "ExecuteTime": {
     "end_time": "2025-07-09T15:33:35.574077Z",
     "start_time": "2025-07-09T15:33:26.617195Z"
    }
   },
   "cell_type": "code",
   "source": [
    "fake_texts = df_kaggle[df_kaggle['label'] == 'fake']['text'].dropna().astype(str)\n",
    "fake_texts = get_top_n_words(fake_texts, n=20)"
   ],
   "id": "abdad7c0b230ab73",
   "outputs": [],
   "execution_count": 176
  },
  {
   "metadata": {
    "ExecuteTime": {
     "end_time": "2025-07-09T15:32:53.965400Z",
     "start_time": "2025-07-09T15:32:53.616636Z"
    }
   },
   "cell_type": "code",
   "source": [
    "import pandas as pd\n",
    "\n",
    "real_texts= pd.DataFrame(real_texts, columns=['word', 'freq'])\n",
    "plot_top_words(\n",
    "    real_texts,\n",
    "    title='Top 20 Words in Real News\\n\\n\\nMost Frequent Words Highlight Institutional, Factual Reporting',\n",
    "    x_label='Frequency',\n",
    "    y_label='Unigrams',\n",
    ")"
   ],
   "id": "4fe71b7dc064aada",
   "outputs": [
    {
     "data": {
      "text/plain": [
       "<Figure size 1000x600 with 1 Axes>"
      ],
      "image/png": "[encoded data removed]"
     },
     "metadata": {},
     "output_type": "display_data"
    }
   ],
   "execution_count": 175
  },
  {
   "metadata": {
    "ExecuteTime": {
     "end_time": "2025-07-09T15:33:56.868824Z",
     "start_time": "2025-07-09T15:33:56.464831Z"
    }
   },
   "cell_type": "code",
   "source": [
    "import pandas as pd\n",
    "\n",
    "fake_texts= pd.DataFrame(fake_texts, columns=['word', 'freq'])\n",
    "plot_top_words(\n",
    "    fake_texts,\n",
    "    title='Top 20 Words in Fake News\\n\\n\\nMost Frequent Words Highlight Institutional, Factual Reporting',\n",
    "    x_label='Frequency',\n",
    "    y_label='Unigrams',\n",
    ")"
   ],
   "id": "5af3e9344f59fa26",
   "outputs": [
    {
     "data": {
      "text/plain": [
       "<Figure size 1000x600 with 1 Axes>"
      ],
      "image/png": "[encoded data removed]"
     },
     "metadata": {},
     "output_type": "display_data"
    }
   ],
   "execution_count": 177
  },
  {
   "metadata": {},
   "cell_type": "markdown",
   "source": "# eda for FNN data",
   "id": "5710d8e4aa5362f0"
  },
  {
   "metadata": {},
   "cell_type": "markdown",
   "source": "## basic infos\n",
   "id": "6499da47d29e7208"
  },
  {
   "metadata": {
    "ExecuteTime": {
     "end_time": "2025-07-09T05:31:05.195614Z",
     "start_time": "2025-07-09T05:31:05.190028Z"
    }
   },
   "cell_type": "code",
   "source": "(df_fnn.head(2))",
   "id": "4caf027bd3845295",
   "outputs": [
    {
     "data": {
      "text/plain": [
       "                                               title  \\\n",
       "0  Amal Clooney Puts a Twist on Daisy Dukes Durin...   \n",
       "1     Scott Disick Like Donald Trump Jr Donald Trump   \n",
       "\n",
       "                                                text subject label  \n",
       "0  Amal Clooney Puts a Twist on Daisy Dukes Durin...  Gossip  real  \n",
       "1     Scott Disick Like Donald Trump Jr Donald Trump  Gossip  fake  "
      ],
      "text/html": [
       "<div>\n",
       "<style scoped>\n",
       "    .dataframe tbody tr th:only-of-type {\n",
       "        vertical-align: middle;\n",
       "    }\n",
       "\n",
       "    .dataframe tbody tr th {\n",
       "        vertical-align: top;\n",
       "    }\n",
       "\n",
       "    .dataframe thead th {\n",
       "        text-align: right;\n",
       "    }\n",
       "</style>\n",
       "<table border=\"1\" class=\"dataframe\">\n",
       "  <thead>\n",
       "    <tr style=\"text-align: right;\">\n",
       "      <th></th>\n",
       "      <th>title</th>\n",
       "      <th>text</th>\n",
       "      <th>subject</th>\n",
       "      <th>label</th>\n",
       "    </tr>\n",
       "  </thead>\n",
       "  <tbody>\n",
       "    <tr>\n",
       "      <th>0</th>\n",
       "      <td>Amal Clooney Puts a Twist on Daisy Dukes Durin...</td>\n",
       "      <td>Amal Clooney Puts a Twist on Daisy Dukes Durin...</td>\n",
       "      <td>Gossip</td>\n",
       "      <td>real</td>\n",
       "    </tr>\n",
       "    <tr>\n",
       "      <th>1</th>\n",
       "      <td>Scott Disick Like Donald Trump Jr Donald Trump</td>\n",
       "      <td>Scott Disick Like Donald Trump Jr Donald Trump</td>\n",
       "      <td>Gossip</td>\n",
       "      <td>fake</td>\n",
       "    </tr>\n",
       "  </tbody>\n",
       "</table>\n",
       "</div>"
      ]
     },
     "execution_count": 128,
     "metadata": {},
     "output_type": "execute_result"
    }
   ],
   "execution_count": 128
  },
  {
   "metadata": {
    "ExecuteTime": {
     "end_time": "2025-07-09T05:31:05.277765Z",
     "start_time": "2025-07-09T05:31:05.259285Z"
    }
   },
   "cell_type": "code",
   "source": "df_fnn.info()",
   "id": "5eacdd4644912c3",
   "outputs": [
    {
     "name": "stdout",
     "output_type": "stream",
     "text": [
      "<class 'pandas.core.frame.DataFrame'>\n",
      "RangeIndex: 23196 entries, 0 to 23195\n",
      "Data columns (total 4 columns):\n",
      " #   Column   Non-Null Count  Dtype \n",
      "---  ------   --------------  ----- \n",
      " 0   title    23196 non-null  object\n",
      " 1   text     23196 non-null  object\n",
      " 2   subject  23196 non-null  object\n",
      " 3   label    23196 non-null  object\n",
      "dtypes: object(4)\n",
      "memory usage: 725.0+ KB\n"
     ]
    }
   ],
   "execution_count": 129
  },
  {
   "metadata": {
    "ExecuteTime": {
     "end_time": "2025-07-09T05:31:05.536454Z",
     "start_time": "2025-07-09T05:31:05.404217Z"
    }
   },
   "cell_type": "code",
   "source": "df_fnn.describe()",
   "id": "e82881bdb94c5845",
   "outputs": [
    {
     "data": {
      "text/plain": [
       "                                 title                            text  \\\n",
       "count                            23196                           23196   \n",
       "unique                           21724                           21724   \n",
       "top     Connecting People Through News  Connecting People Through News   \n",
       "freq                                20                              20   \n",
       "\n",
       "       subject  label  \n",
       "count    23196  23196  \n",
       "unique       2      2  \n",
       "top     Gossip   real  \n",
       "freq     22140  17441  "
      ],
      "text/html": [
       "<div>\n",
       "<style scoped>\n",
       "    .dataframe tbody tr th:only-of-type {\n",
       "        vertical-align: middle;\n",
       "    }\n",
       "\n",
       "    .dataframe tbody tr th {\n",
       "        vertical-align: top;\n",
       "    }\n",
       "\n",
       "    .dataframe thead th {\n",
       "        text-align: right;\n",
       "    }\n",
       "</style>\n",
       "<table border=\"1\" class=\"dataframe\">\n",
       "  <thead>\n",
       "    <tr style=\"text-align: right;\">\n",
       "      <th></th>\n",
       "      <th>title</th>\n",
       "      <th>text</th>\n",
       "      <th>subject</th>\n",
       "      <th>label</th>\n",
       "    </tr>\n",
       "  </thead>\n",
       "  <tbody>\n",
       "    <tr>\n",
       "      <th>count</th>\n",
       "      <td>23196</td>\n",
       "      <td>23196</td>\n",
       "      <td>23196</td>\n",
       "      <td>23196</td>\n",
       "    </tr>\n",
       "    <tr>\n",
       "      <th>unique</th>\n",
       "      <td>21724</td>\n",
       "      <td>21724</td>\n",
       "      <td>2</td>\n",
       "      <td>2</td>\n",
       "    </tr>\n",
       "    <tr>\n",
       "      <th>top</th>\n",
       "      <td>Connecting People Through News</td>\n",
       "      <td>Connecting People Through News</td>\n",
       "      <td>Gossip</td>\n",
       "      <td>real</td>\n",
       "    </tr>\n",
       "    <tr>\n",
       "      <th>freq</th>\n",
       "      <td>20</td>\n",
       "      <td>20</td>\n",
       "      <td>22140</td>\n",
       "      <td>17441</td>\n",
       "    </tr>\n",
       "  </tbody>\n",
       "</table>\n",
       "</div>"
      ]
     },
     "execution_count": 130,
     "metadata": {},
     "output_type": "execute_result"
    }
   ],
   "execution_count": 130
  },
  {
   "metadata": {
    "ExecuteTime": {
     "end_time": "2025-07-09T05:31:05.576113Z",
     "start_time": "2025-07-09T05:31:05.563847Z"
    }
   },
   "cell_type": "code",
   "source": "df_fnn.shape",
   "id": "22548198a65859ae",
   "outputs": [
    {
     "data": {
      "text/plain": [
       "(23196, 4)"
      ]
     },
     "execution_count": 131,
     "metadata": {},
     "output_type": "execute_result"
    }
   ],
   "execution_count": 131
  },
  {
   "metadata": {},
   "cell_type": "markdown",
   "source": "### distribution",
   "id": "82f38284c7fe3893"
  },
  {
   "metadata": {
    "ExecuteTime": {
     "end_time": "2025-07-09T05:31:05.659953Z",
     "start_time": "2025-07-09T05:31:05.645410Z"
    }
   },
   "cell_type": "code",
   "source": "print(\"FNN labels:\", df_fnn['label'].value_counts())\n",
   "id": "dcb65c5d95370c7",
   "outputs": [
    {
     "name": "stdout",
     "output_type": "stream",
     "text": [
      "FNN labels: label\n",
      "real    17441\n",
      "fake     5755\n",
      "Name: count, dtype: int64\n"
     ]
    }
   ],
   "execution_count": 132
  },
  {
   "metadata": {},
   "cell_type": "markdown",
   "source": [
    "\n",
    "## text length\n"
   ],
   "id": "ad4eb471e9e0a06b"
  },
  {
   "metadata": {
    "ExecuteTime": {
     "end_time": "2025-07-09T05:33:14.964294Z",
     "start_time": "2025-07-09T05:33:14.949247Z"
    }
   },
   "cell_type": "code",
   "source": "print(df_fnn['text'].apply(lambda x: len(str(x))))\n",
   "id": "817f903cc725bcb1",
   "outputs": [
    {
     "name": "stdout",
     "output_type": "stream",
     "text": [
      "0        70\n",
      "1        46\n",
      "2        51\n",
      "3        70\n",
      "4        56\n",
      "         ..\n",
      "23191    78\n",
      "23192    77\n",
      "23193    63\n",
      "23194    45\n",
      "23195    50\n",
      "Name: text, Length: 23196, dtype: int64\n"
     ]
    }
   ],
   "execution_count": 146
  },
  {
   "metadata": {},
   "cell_type": "markdown",
   "source": "### check for null\n",
   "id": "5fe12bd8aca781b5"
  },
  {
   "metadata": {
    "ExecuteTime": {
     "end_time": "2025-07-09T05:31:05.791330Z",
     "start_time": "2025-07-09T05:31:05.762467Z"
    }
   },
   "cell_type": "code",
   "source": "df_fnn.isnull().sum()",
   "id": "6c8b3243b3eb14b6",
   "outputs": [
    {
     "data": {
      "text/plain": [
       "title      0\n",
       "text       0\n",
       "subject    0\n",
       "label      0\n",
       "dtype: int64"
      ]
     },
     "execution_count": 134,
     "metadata": {},
     "output_type": "execute_result"
    }
   ],
   "execution_count": 134
  },
  {
   "metadata": {},
   "cell_type": "markdown",
   "source": "### check for duplicate",
   "id": "572126ee55f38a08"
  },
  {
   "metadata": {
    "ExecuteTime": {
     "end_time": "2025-07-09T05:32:42.592135Z",
     "start_time": "2025-07-09T05:32:42.571195Z"
    }
   },
   "cell_type": "code",
   "source": "df_fnn.duplicated().sum()\n",
   "id": "d0e6d7af145f44e2",
   "outputs": [
    {
     "data": {
      "text/plain": [
       "np.int64(1348)"
      ]
     },
     "execution_count": 144,
     "metadata": {},
     "output_type": "execute_result"
    }
   ],
   "execution_count": 144
  },
  {
   "metadata": {},
   "cell_type": "markdown",
   "source": "## visualization\n",
   "id": "5b2a8046809a4515"
  },
  {
   "metadata": {
    "ExecuteTime": {
     "end_time": "2025-07-09T05:31:06.185388Z",
     "start_time": "2025-07-09T05:31:06.183190Z"
    }
   },
   "cell_type": "code",
   "source": [
    "import seaborn as sns\n",
    "import matplotlib.pyplot as plt\n"
   ],
   "id": "4ffacee7df3bbcc9",
   "outputs": [],
   "execution_count": 136
  },
  {
   "metadata": {},
   "cell_type": "markdown",
   "source": "### Distribution\n",
   "id": "594bbb04d006fc01"
  },
  {
   "metadata": {
    "ExecuteTime": {
     "end_time": "2025-07-09T05:31:06.565722Z",
     "start_time": "2025-07-09T05:31:06.228296Z"
    }
   },
   "cell_type": "code",
   "source": [
    "sns.countplot(data=df_fnn, x='label')\n",
    "plt.title('FNN dataset Distribution')\n",
    "plt.show()"
   ],
   "id": "4c54b01acd69ab54",
   "outputs": [
    {
     "data": {
      "text/plain": [
       "<Figure size 640x480 with 1 Axes>"
      ],
      "image/png": "[encoded data removed]"
     },
     "metadata": {},
     "output_type": "display_data"
    }
   ],
   "execution_count": 137
  },
  {
   "metadata": {},
   "cell_type": "markdown",
   "source": "### Text Lengths\n",
   "id": "2132f1fc6b052834"
  },
  {
   "metadata": {
    "ExecuteTime": {
     "end_time": "2025-07-09T05:31:07.096869Z",
     "start_time": "2025-07-09T05:31:06.574085Z"
    }
   },
   "cell_type": "code",
   "source": [
    "df_fnn['text_len'] = df_fnn['text'].apply(lambda x: len(str(x).split()))\n",
    "\n",
    "sns.histplot(data=df_fnn, x='text_len', bins=40, hue='label', kde=True)\n",
    "plt.title(\"Text Length Distribution by Label\")\n",
    "plt.show()\n",
    "df_fnn.drop(columns=['text_len'], inplace=True)\n"
   ],
   "id": "baedf5208a80aaba",
   "outputs": [
    {
     "data": {
      "text/plain": [
       "<Figure size 640x480 with 1 Axes>"
      ],
      "image/png": "[encoded data removed]"
     },
     "metadata": {},
     "output_type": "display_data"
    }
   ],
   "execution_count": 138
  },
  {
   "metadata": {},
   "cell_type": "markdown",
   "source": "### word cloud",
   "id": "fa1fc573634210bc"
  },
  {
   "metadata": {
    "ExecuteTime": {
     "end_time": "2025-07-09T05:31:07.871175Z",
     "start_time": "2025-07-09T05:31:07.100244Z"
    }
   },
   "cell_type": "code",
   "source": "generate_wordcloud(df_fnn, label=\"fake\", source=\"fnn\")\n",
   "id": "2946214aa3ede8d9",
   "outputs": [],
   "execution_count": 139
  },
  {
   "metadata": {
    "ExecuteTime": {
     "end_time": "2025-07-09T05:31:08.889816Z",
     "start_time": "2025-07-09T05:31:07.874072Z"
    }
   },
   "cell_type": "code",
   "source": "generate_wordcloud(df_fnn, label=\"real\", source=\"fnn\")\n",
   "id": "9d913cd1caded90",
   "outputs": [],
   "execution_count": 140
  },
  {
   "metadata": {},
   "cell_type": "markdown",
   "source": "# eda for all",
   "id": "10f6c17dcfd10984"
  },
  {
   "metadata": {
    "ExecuteTime": {
     "end_time": "2025-07-09T05:31:08.902478Z",
     "start_time": "2025-07-09T05:31:08.894719Z"
    }
   },
   "cell_type": "code",
   "source": "df_all.sample(2)",
   "id": "93da9c4b2e20b0c4",
   "outputs": [
    {
     "data": {
      "text/plain": [
       "                                                   title  \\\n",
       "382    DON’T BELIEVE MEDIA LIES…Wildly Unpopular Hill...   \n",
       "37179  Hurricane Irma threatens Florida's bustling to...   \n",
       "\n",
       "                                                    text    subject label  \n",
       "382      This Facebook user s comment about  Donald D...   politics  fake  \n",
       "37179  NEW YORK (Reuters) - Hurricane Irma s path of ...  worldnews  real  "
      ],
      "text/html": [
       "<div>\n",
       "<style scoped>\n",
       "    .dataframe tbody tr th:only-of-type {\n",
       "        vertical-align: middle;\n",
       "    }\n",
       "\n",
       "    .dataframe tbody tr th {\n",
       "        vertical-align: top;\n",
       "    }\n",
       "\n",
       "    .dataframe thead th {\n",
       "        text-align: right;\n",
       "    }\n",
       "</style>\n",
       "<table border=\"1\" class=\"dataframe\">\n",
       "  <thead>\n",
       "    <tr style=\"text-align: right;\">\n",
       "      <th></th>\n",
       "      <th>title</th>\n",
       "      <th>text</th>\n",
       "      <th>subject</th>\n",
       "      <th>label</th>\n",
       "    </tr>\n",
       "  </thead>\n",
       "  <tbody>\n",
       "    <tr>\n",
       "      <th>382</th>\n",
       "      <td>DON’T BELIEVE MEDIA LIES…Wildly Unpopular Hill...</td>\n",
       "      <td>This Facebook user s comment about  Donald D...</td>\n",
       "      <td>politics</td>\n",
       "      <td>fake</td>\n",
       "    </tr>\n",
       "    <tr>\n",
       "      <th>37179</th>\n",
       "      <td>Hurricane Irma threatens Florida's bustling to...</td>\n",
       "      <td>NEW YORK (Reuters) - Hurricane Irma s path of ...</td>\n",
       "      <td>worldnews</td>\n",
       "      <td>real</td>\n",
       "    </tr>\n",
       "  </tbody>\n",
       "</table>\n",
       "</div>"
      ]
     },
     "execution_count": 141,
     "metadata": {},
     "output_type": "execute_result"
    }
   ],
   "execution_count": 141
  },
  {
   "metadata": {
    "ExecuteTime": {
     "end_time": "2025-07-09T05:36:56.440256Z",
     "start_time": "2025-07-09T05:36:56.409052Z"
    }
   },
   "cell_type": "code",
   "source": "df_all.info()",
   "id": "13e6eb08d47f84fd",
   "outputs": [
    {
     "name": "stdout",
     "output_type": "stream",
     "text": [
      "<class 'pandas.core.frame.DataFrame'>\n",
      "RangeIndex: 68094 entries, 0 to 68093\n",
      "Data columns (total 4 columns):\n",
      " #   Column   Non-Null Count  Dtype \n",
      "---  ------   --------------  ----- \n",
      " 0   title    68094 non-null  object\n",
      " 1   text     68094 non-null  object\n",
      " 2   subject  68094 non-null  object\n",
      " 3   label    68094 non-null  object\n",
      "dtypes: object(4)\n",
      "memory usage: 2.1+ MB\n"
     ]
    }
   ],
   "execution_count": 149
  },
  {
   "metadata": {
    "ExecuteTime": {
     "end_time": "2025-07-09T05:37:08.653630Z",
     "start_time": "2025-07-09T05:37:08.361547Z"
    }
   },
   "cell_type": "code",
   "source": "df_all.describe()",
   "id": "2b42b321fe9073a2",
   "outputs": [
    {
     "data": {
      "text/plain": [
       "                                 title   text subject  label\n",
       "count                            68094  68094   68094  68094\n",
       "unique                           60453  60370      10      2\n",
       "top     Connecting People Through News         Gossip   real\n",
       "freq                                20    627   22140  38858"
      ],
      "text/html": [
       "<div>\n",
       "<style scoped>\n",
       "    .dataframe tbody tr th:only-of-type {\n",
       "        vertical-align: middle;\n",
       "    }\n",
       "\n",
       "    .dataframe tbody tr th {\n",
       "        vertical-align: top;\n",
       "    }\n",
       "\n",
       "    .dataframe thead th {\n",
       "        text-align: right;\n",
       "    }\n",
       "</style>\n",
       "<table border=\"1\" class=\"dataframe\">\n",
       "  <thead>\n",
       "    <tr style=\"text-align: right;\">\n",
       "      <th></th>\n",
       "      <th>title</th>\n",
       "      <th>text</th>\n",
       "      <th>subject</th>\n",
       "      <th>label</th>\n",
       "    </tr>\n",
       "  </thead>\n",
       "  <tbody>\n",
       "    <tr>\n",
       "      <th>count</th>\n",
       "      <td>68094</td>\n",
       "      <td>68094</td>\n",
       "      <td>68094</td>\n",
       "      <td>68094</td>\n",
       "    </tr>\n",
       "    <tr>\n",
       "      <th>unique</th>\n",
       "      <td>60453</td>\n",
       "      <td>60370</td>\n",
       "      <td>10</td>\n",
       "      <td>2</td>\n",
       "    </tr>\n",
       "    <tr>\n",
       "      <th>top</th>\n",
       "      <td>Connecting People Through News</td>\n",
       "      <td></td>\n",
       "      <td>Gossip</td>\n",
       "      <td>real</td>\n",
       "    </tr>\n",
       "    <tr>\n",
       "      <th>freq</th>\n",
       "      <td>20</td>\n",
       "      <td>627</td>\n",
       "      <td>22140</td>\n",
       "      <td>38858</td>\n",
       "    </tr>\n",
       "  </tbody>\n",
       "</table>\n",
       "</div>"
      ]
     },
     "execution_count": 150,
     "metadata": {},
     "output_type": "execute_result"
    }
   ],
   "execution_count": 150
  },
  {
   "metadata": {
    "ExecuteTime": {
     "end_time": "2025-07-09T05:37:21.008145Z",
     "start_time": "2025-07-09T05:37:20.997264Z"
    }
   },
   "cell_type": "code",
   "source": "df_all.shape",
   "id": "b3d07618b39fbbd2",
   "outputs": [
    {
     "data": {
      "text/plain": [
       "(68094, 4)"
      ]
     },
     "execution_count": 151,
     "metadata": {},
     "output_type": "execute_result"
    }
   ],
   "execution_count": 151
  },
  {
   "metadata": {},
   "cell_type": "markdown",
   "source": "### distribution",
   "id": "960d4b3ddd2ee6f6"
  },
  {
   "metadata": {
    "ExecuteTime": {
     "end_time": "2025-07-09T05:38:05.749619Z",
     "start_time": "2025-07-09T05:38:05.726857Z"
    }
   },
   "cell_type": "code",
   "source": "print(\"ALL labels:\", df_all['label'].value_counts())\n",
   "id": "34603f515bdc9773",
   "outputs": [
    {
     "name": "stdout",
     "output_type": "stream",
     "text": [
      "ALL labels: label\n",
      "real    38858\n",
      "fake    29236\n",
      "Name: count, dtype: int64\n"
     ]
    }
   ],
   "execution_count": 152
  },
  {
   "metadata": {},
   "cell_type": "markdown",
   "source": "### text length",
   "id": "e1578f52f9407d08"
  },
  {
   "metadata": {
    "ExecuteTime": {
     "end_time": "2025-07-09T05:38:45.496911Z",
     "start_time": "2025-07-09T05:38:45.400964Z"
    }
   },
   "cell_type": "code",
   "source": "print(df_all['text'].apply(lambda x: len(str(x))))\n",
   "id": "ccf19167fb2b0ad6",
   "outputs": [
    {
     "name": "stdout",
     "output_type": "stream",
     "text": [
      "0        2696\n",
      "1        4432\n",
      "2        2428\n",
      "3        2342\n",
      "4         531\n",
      "         ... \n",
      "68089      66\n",
      "68090      60\n",
      "68091      56\n",
      "68092      89\n",
      "68093      45\n",
      "Name: text, Length: 68094, dtype: int64\n"
     ]
    }
   ],
   "execution_count": 153
  }
 ],
 "metadata": {
  "kernelspec": {
   "display_name": "Python 3",
   "language": "python",
   "name": "python3"
  },
  "language_info": {
   "codemirror_mode": {
    "name": "ipython",
    "version": 2
   },
   "file_extension": ".py",
   "mimetype": "text/x-python",
   "name": "python",
   "nbconvert_exporter": "python",
   "pygments_lexer": "ipython2",
   "version": "2.7.6"
  }
 },
 "nbformat": 4,
 "nbformat_minor": 5
}
